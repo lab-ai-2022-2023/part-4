{
 "cells": [
  {
   "cell_type": "code",
   "execution_count": 1,
   "metadata": {
    "slideshow": {
     "slide_type": "skip"
    }
   },
   "outputs": [],
   "source": [
    "# ======================================================================================\n",
    "# Notebook setup\n",
    "# \n",
    "# Run this cell before all others to make sure that the Jupyter notebook works properly\n",
    "# ======================================================================================\n",
    "\n",
    "# Automatically reload all imported modules\n",
    "%load_ext autoreload\n",
    "%autoreload 2\n",
    "\n",
    "import os\n",
    "import pandas as pd\n",
    "import numpy as np\n",
    "from matplotlib import pyplot as plt\n",
    "from sklearn.model_selection import train_test_split\n",
    "from sklearn.metrics import r2_score\n",
    "from sklearn.preprocessing import StandardScaler\n",
    "from sklearn.ensemble import RandomForestRegressor\n",
    "\n",
    "figsize = (20, 4.5)"
   ]
  },
  {
   "cell_type": "markdown",
   "metadata": {
    "slideshow": {
     "slide_type": "slide"
    }
   },
   "source": [
    "# Introduction to Neural Networks"
   ]
  },
  {
   "cell_type": "markdown",
   "metadata": {
    "slideshow": {
     "slide_type": "subslide"
    }
   },
   "source": [
    "## Neural Networks\n",
    "\n",
    "**Neural Networks are a type of ML model**\n",
    "\n",
    "...Which follows a biology-inspired paradigm\n",
    "\n",
    "* The idea is that the our brain achieves impressive results\n",
    "* ...By relying on _many_ (relatively simple) _connected neurons_\n",
    "\n",
    "In fact, the first NNs were born as simplified biological models\n",
    "\n",
    "**Over time, the connection with biology has faded**\n",
    "\n",
    "Today, NNs are best understood as parameterized functions:\n",
    "\n",
    "$$\n",
    "f(x, w)\n",
    "$$\n",
    "\n",
    "* Where $x$ is the input vector\n",
    "* ...And $w$ is the parameter (weight) vector\n",
    "\n",
    "The abstract definition is in fact close to that of Linear Regression"
   ]
  },
  {
   "cell_type": "markdown",
   "metadata": {
    "slideshow": {
     "slide_type": "subslide"
    }
   },
   "source": [
    "## Neural Networks\n",
    "\n",
    "**The function $f$ is made of multiple computation units called _neurons_**\n",
    "\n",
    "...That are connected via a variety of schemas\n",
    "\n",
    "<center>\n",
    "<img src=\"assets/ann.png\" width=60%/>\n",
    "</center>\n",
    "\n",
    "A popular schema (in the figure) consists in arranging neurons in _layers_\n",
    "\n",
    "* Neurons in the same layer are not connected to each other\n",
    "* Neurons in adjacent layers are fully connected"
   ]
  },
  {
   "cell_type": "markdown",
   "metadata": {
    "slideshow": {
     "slide_type": "subslide"
    }
   },
   "source": [
    "## Neural Networks\n",
    "\n",
    "**The function $f$ is made of multiple computation units called _neurons_**\n",
    "\n",
    "...That are connected via a variety of schemas\n",
    "\n",
    "<center>\n",
    "<img src=\"assets/ann.png\" width=60%/>\n",
    "</center>\n",
    "\n",
    "* The _input_ is often treated as a first layer\n",
    "* The final layer returns the _output_\n",
    "* Intermediate layer are referred to as _hidden_"
   ]
  },
  {
   "cell_type": "markdown",
   "metadata": {
    "slideshow": {
     "slide_type": "subslide"
    }
   },
   "source": [
    "## Neural Networks\n",
    "\n",
    "**The function $f$ is made of multiple computation units called _neurons_**\n",
    "\n",
    "...That are connected via a variety of schemas\n",
    "\n",
    "<center>\n",
    "<img src=\"assets/ann.png\" width=60%/>\n",
    "</center>\n",
    "\n",
    "The resulting architecture is known as _feed-forward, fully connected NN_\n",
    "\n",
    "* ...Or sometimes just as _multilayer perceptron_\n",
    "* There are many more connection schemas\n",
    "* ...But we will (mostly) stick to this one"
   ]
  },
  {
   "cell_type": "markdown",
   "metadata": {
    "slideshow": {
     "slide_type": "subslide"
    }
   },
   "source": [
    "## Neurons\n",
    "\n",
    "**Each neuron is itself a (simple) parameterized function**\n",
    "\n",
    "In particular, most types of neurons have the form:\n",
    "\n",
    "$$\n",
    "h(w^T x + \\theta)\n",
    "$$\n",
    "\n",
    "**First the neuron computes $w^Tx + \\theta$**\n",
    "\n",
    "* This is just a weighted sum of its input (plus an offset)\n",
    "* It's the same operation we do in Linear Regression\n",
    "\n",
    "**Then, the neuron applies an activation function $h$**\n",
    "\n",
    "* This is univariate, scalar fuction (i.e. $h: \\mathbb{R} \\to \\mathbb{R})$\n",
    "* ...And it's always monotone non-decreasing\n",
    "\n",
    "Using a linear activation function (i.e. $h(y) =y$) is a viable option"
   ]
  },
  {
   "cell_type": "markdown",
   "metadata": {
    "slideshow": {
     "slide_type": "subslide"
    }
   },
   "source": [
    "## Neurons\n",
    "\n",
    "**However, activation functions are typically non-linear**\n",
    "\n",
    "Notable examples include\n",
    "\n",
    "<center><img src=\"assets/act_fun.png\" width=\"700px\"/></center>\n",
    "\n",
    "* A _sigmoid_ is an example of a bounded activation function (in $[0, 1]$)\n",
    "* A _Rectifier Linear Unit_ is a piecewise linear activation function\n",
    "\n",
    "**Both provide a numerical characterization of the neuron state:**\n",
    "\n",
    "* If $w^Tx + \\theta \\leq 0$, the neuron is _inactive_ (the output is 0 or close)\n",
    "* If $w^Tx + \\theta > 0$, the neuron is _active_ (the output is positive)"
   ]
  },
  {
   "cell_type": "markdown",
   "metadata": {
    "slideshow": {
     "slide_type": "subslide"
    }
   },
   "source": [
    "## NNs and Activation Functions\n",
    "\n",
    "**The properties of a MLP depend on the activation functions and layers**\n",
    "\n",
    "<center>\n",
    "<img src=\"assets/ann.png\" width=60%/>\n",
    "</center>\n",
    "\n",
    "Let's start by discussing the activation function for the _output layer_:\n",
    "\n",
    "* For _regression tasks_ we typically choose a linear activation function\n",
    "* ...Since that leaves the largest possible variability range for the output"
   ]
  },
  {
   "cell_type": "markdown",
   "metadata": {
    "slideshow": {
     "slide_type": "subslide"
    }
   },
   "source": [
    "## NNs and Activation Functions\n",
    "\n",
    "**The properties of a MLP depend on the activation functions and layers**\n",
    "\n",
    "<center>\n",
    "<img src=\"assets/ann.png\" width=60%/>\n",
    "</center>\n",
    "\n",
    "Let's start by discussing the activation function for the _output layer_:\n",
    "\n",
    "* For _classification tasks_ we typically choose a sigmoid (logistic function)\n",
    "* ...Since that allow us to interpret outputs as probability values"
   ]
  },
  {
   "cell_type": "markdown",
   "metadata": {
    "slideshow": {
     "slide_type": "subslide"
    }
   },
   "source": [
    "## NNs and Activation Functions\n",
    "\n",
    "**The properties of a MLP depend on the activation functions and layers**\n",
    "\n",
    "<center>\n",
    "<img src=\"assets/ann.png\" width=30%/>\n",
    "</center>\n",
    "\n",
    "For _classification tasks_ with multiple classes\n",
    "\n",
    "* We use one output neuron _per class_, with a sigmoid output\n",
    "* ...Then we normalize the output so that they sum up to one\n",
    "* This operation is called a _softmax_\n",
    "\n",
    "Formally, this is defined as:\n",
    "\n",
    "$$\n",
    "y_k(z) = \\frac{e^{z_k}}{\\sum_{k = 1}^{n_k} e^{x_k}}\n",
    "$$"
   ]
  },
  {
   "cell_type": "markdown",
   "metadata": {
    "slideshow": {
     "slide_type": "subslide"
    }
   },
   "source": [
    "## NNs and Activation Functions\n",
    "\n",
    "**The properties of a MLP depend on the activation functions and layers**\n",
    "\n",
    "<center>\n",
    "<img src=\"assets/ann.png\" width=60%/>\n",
    "</center>\n",
    "\n",
    "A MLP with no hidden layer is _just a linear model_!\n",
    "\n",
    "* For regression, we get Linear Regression\n",
    "* For classification, we get Logistic Regression\n",
    "* ...The softmax \"trick\" is in fact borrowed from Logistic Regression"
   ]
  },
  {
   "cell_type": "markdown",
   "metadata": {
    "slideshow": {
     "slide_type": "subslide"
    }
   },
   "source": [
    "## NNs and Activation Functions\n",
    "\n",
    "**The properties of a MLP depend on the activation functions and layers**\n",
    "\n",
    "<center>\n",
    "<img src=\"assets/ann.png\" width=60%/>\n",
    "</center>\n",
    "\n",
    "For the hidden layers, we always use (at least some) _non-linear_ functions\n",
    "\n",
    "* In fact, if we used only linear activation functions\n",
    "* ...We would get a linear model again"
   ]
  },
  {
   "cell_type": "markdown",
   "metadata": {
    "slideshow": {
     "slide_type": "subslide"
    }
   },
   "source": [
    "## Universal Approximation\n",
    "\n",
    "**There is an important result about hidden layers and activation functions**\n",
    "\n",
    "* If a NN is _sufficiently large_\n",
    "* ...And has _at least one hidden layer_\n",
    "* ...With a _non-linear_ activation function\n",
    "\n",
    "Then the network can approximate _any function_ with _arbitrary precision_\n",
    "\n",
    "**In other words, NNs are _universal approximators_**\n",
    "\n",
    "This is a very powerful result!\n",
    "\n",
    "* No matter what input-output relation we need to learn\n",
    "* ...With a large-enough NN and we have a good chance of succeeding\n",
    "\n",
    "**Just how big does the network need to be?**\n",
    "\n",
    "* It depends on the complexity of the true function to be learned\n",
    "* ...And on the structure of the network"
   ]
  },
  {
   "cell_type": "markdown",
   "metadata": {
    "slideshow": {
     "slide_type": "subslide"
    }
   },
   "source": [
    "## Shallow vs Deep NN\n",
    "\n",
    "**In particular, it depends on the _number layers_**\n",
    "\n",
    "Assuming that the ground truth function is challenging:\n",
    "\n",
    "* If we use _a single hidden layer_, then that layer may need to be very large\n",
    "* ...But if we use _many hidden layers_, they can be much smaller\n",
    "\n",
    "We say that:\n",
    "\n",
    "* A network is _shallow_ if it has a single layer\n",
    "* A network is _deep_ if if has multiple layers\n",
    "\n",
    "**Deep learning is just NNs with multiple hidden layers**\n",
    "\n",
    "* In this lecture we will focus on shallow networks\n",
    "* We will discuss deep networks in the next lecture"
   ]
  },
  {
   "cell_type": "markdown",
   "metadata": {
    "slideshow": {
     "slide_type": "subslide"
    }
   },
   "source": [
    "## A Practical Example\n",
    "\n",
    "**We will try to learn an NN for our housing dataset**\n",
    "\n",
    "Let's start by loading the data"
   ]
  },
  {
   "cell_type": "code",
   "execution_count": 2,
   "metadata": {},
   "outputs": [
    {
     "data": {
      "text/html": [
       "<div>\n",
       "<style scoped>\n",
       "    .dataframe tbody tr th:only-of-type {\n",
       "        vertical-align: middle;\n",
       "    }\n",
       "\n",
       "    .dataframe tbody tr th {\n",
       "        vertical-align: top;\n",
       "    }\n",
       "\n",
       "    .dataframe thead th {\n",
       "        text-align: right;\n",
       "    }\n",
       "</style>\n",
       "<table border=\"1\" class=\"dataframe\">\n",
       "  <thead>\n",
       "    <tr style=\"text-align: right;\">\n",
       "      <th></th>\n",
       "      <th>house age</th>\n",
       "      <th>dist to MRT</th>\n",
       "      <th>#stores</th>\n",
       "      <th>latitude</th>\n",
       "      <th>longitude</th>\n",
       "      <th>price per area</th>\n",
       "    </tr>\n",
       "  </thead>\n",
       "  <tbody>\n",
       "    <tr>\n",
       "      <th>0</th>\n",
       "      <td>14.8</td>\n",
       "      <td>393.2606</td>\n",
       "      <td>6</td>\n",
       "      <td>24.96172</td>\n",
       "      <td>121.53812</td>\n",
       "      <td>7.6</td>\n",
       "    </tr>\n",
       "    <tr>\n",
       "      <th>1</th>\n",
       "      <td>17.4</td>\n",
       "      <td>6488.0210</td>\n",
       "      <td>1</td>\n",
       "      <td>24.95719</td>\n",
       "      <td>121.47353</td>\n",
       "      <td>11.2</td>\n",
       "    </tr>\n",
       "    <tr>\n",
       "      <th>2</th>\n",
       "      <td>16.0</td>\n",
       "      <td>4066.5870</td>\n",
       "      <td>0</td>\n",
       "      <td>24.94297</td>\n",
       "      <td>121.50342</td>\n",
       "      <td>11.6</td>\n",
       "    </tr>\n",
       "    <tr>\n",
       "      <th>3</th>\n",
       "      <td>30.9</td>\n",
       "      <td>6396.2830</td>\n",
       "      <td>1</td>\n",
       "      <td>24.94375</td>\n",
       "      <td>121.47883</td>\n",
       "      <td>12.2</td>\n",
       "    </tr>\n",
       "    <tr>\n",
       "      <th>4</th>\n",
       "      <td>16.5</td>\n",
       "      <td>4082.0150</td>\n",
       "      <td>0</td>\n",
       "      <td>24.94155</td>\n",
       "      <td>121.50381</td>\n",
       "      <td>12.8</td>\n",
       "    </tr>\n",
       "  </tbody>\n",
       "</table>\n",
       "</div>"
      ],
      "text/plain": [
       "   house age  dist to MRT  #stores  latitude  longitude  price per area\n",
       "0       14.8     393.2606        6  24.96172  121.53812             7.6\n",
       "1       17.4    6488.0210        1  24.95719  121.47353            11.2\n",
       "2       16.0    4066.5870        0  24.94297  121.50342            11.6\n",
       "3       30.9    6396.2830        1  24.94375  121.47883            12.2\n",
       "4       16.5    4082.0150        0  24.94155  121.50381            12.8"
      ]
     },
     "execution_count": 2,
     "metadata": {},
     "output_type": "execute_result"
    }
   ],
   "source": [
    "fname = os.path.join('data', 'real_estate.csv')\n",
    "data = pd.read_csv(fname, sep=',')\n",
    "in_cols = [c for c in data.columns if c != 'price per area']\n",
    "X = data[in_cols]\n",
    "y = np.log(data[['price per area']])\n",
    "X_tr, X_ts, y_tr, y_ts = train_test_split(X, y, test_size=0.34, random_state=42)\n",
    "\n",
    "data.head()"
   ]
  },
  {
   "cell_type": "markdown",
   "metadata": {},
   "source": [
    "* Again, the first 4 colums are our input\n",
    "* ...And our goal is to estimate $\\log(\\text{price per area})$"
   ]
  },
  {
   "cell_type": "markdown",
   "metadata": {
    "slideshow": {
     "slide_type": "subslide"
    }
   },
   "source": [
    "## Building a Network in keras/tensorflow\n",
    "\n",
    "**We will rely on [tensorflow](https://www.tensorflow.org/) and [keras](https://keras.io/) to deal with Neural Networks**\n",
    "\n",
    "* Tensorflow is a library for tensor computations developed by Google\n",
    "* ...And Keras is a Python package to build and train NNs\n",
    "\n",
    "For some years, Keras has been integrated in tensorflow\n",
    "\n",
    "**When working with NNs, our model does not have a fixed structure**\n",
    "\n",
    "...Instead, we need to decide how we want to build our NN\n",
    "\n",
    "* Keras provides multiple approaches for constructing a NN model\n",
    "* The simplest one is the so-called _Sequential API_\n",
    "* ...Which requires to start by building a `Sequential` object"
   ]
  },
  {
   "cell_type": "code",
   "execution_count": 4,
   "metadata": {},
   "outputs": [],
   "source": [
    "from tensorflow import keras\n",
    "\n",
    "nn = keras.Sequential()"
   ]
  },
  {
   "cell_type": "markdown",
   "metadata": {
    "slideshow": {
     "slide_type": "subslide"
    }
   },
   "source": [
    "## Building a Network in keras/tensorflow\n",
    "\n",
    "**Then we build a number of \"layer\" objects**\n",
    "\n",
    "...And we add then to the model"
   ]
  },
  {
   "cell_type": "code",
   "execution_count": 5,
   "metadata": {},
   "outputs": [],
   "source": [
    "from keras.layers import Dense\n",
    "\n",
    "input_shape = (len(in_cols),)\n",
    "nn.add(Dense(16, activation='relu', input_shape=input_shape))\n",
    "nn.add(Dense(1, activation='linear'))"
   ]
  },
  {
   "cell_type": "markdown",
   "metadata": {},
   "source": [
    "* The first layer we add will be the one accepting the input\n",
    "  - ...And for this reason we specify the size of the expected input vector\n",
    "* The last layer we add will be the one providing the output\n",
    "\n",
    "**We have just built a shallow network**\n",
    "\n",
    "* The hidden layer has 16 neurons and a \"ReLU\" activation function\n",
    "* The output layer contains a single, linear, neuron"
   ]
  },
  {
   "cell_type": "markdown",
   "metadata": {
    "slideshow": {
     "slide_type": "subslide"
    }
   },
   "source": [
    "## Plotting a Model\n",
    "\n",
    "**We can even plot the model structure**"
   ]
  },
  {
   "cell_type": "code",
   "execution_count": 6,
   "metadata": {},
   "outputs": [
    {
     "data": {
      "image/png": "[encoded data removed]",
      "text/plain": [
       "<IPython.core.display.Image object>"
      ]
     },
     "execution_count": 6,
     "metadata": {},
     "output_type": "execute_result"
    }
   ],
   "source": [
    "keras.utils.plot_model(nn, rankdir='LR', show_layer_activations=True, dpi=150)"
   ]
  },
  {
   "cell_type": "markdown",
   "metadata": {},
   "source": [
    "* Evey box represents a layer\n",
    "* The first one is the input (which was added automatically by keras)\n",
    "* The second is the ReLU layer that we explicitly added\n",
    "* The last is the ouput layer\n",
    "\n",
    "**Note:** you'll need to download [the graphviz tool for this](https://graphviz.org/download/)"
   ]
  },
  {
   "cell_type": "markdown",
   "metadata": {
    "slideshow": {
     "slide_type": "subslide"
    }
   },
   "source": [
    "## Training a Neural Network\n",
    "\n",
    "**In principle, training a NN is the same as training a linear model**\n",
    "\n",
    "I.e. given a loss function $L(\\hat{y}, f(\\hat{x}, w))$ we need to solve:\n",
    "\n",
    "$$\n",
    "\\arg\\min_{w} L(\\hat{y}, f(\\hat{x}, w))\n",
    "$$\n",
    "\n",
    "* Where $\\hat{x}$ is the training set input\n",
    "\n",
    "For example, for an MSE loss we get:\n",
    "\n",
    "$$\n",
    "\\arg\\min_{w} \\|f(\\hat{x}, w) - \\hat{y}\\|_2^2\n",
    "$$\n",
    "\n",
    "* I.e. we want to tune the parmaters $w$\n",
    "* ...So that our predictions $f(\\hat{x}, y)$ are close to the targets $\\hat{y}$\n",
    "\n",
    "**The main difference is that our function $f$ is now non-linear**"
   ]
  },
  {
   "cell_type": "markdown",
   "metadata": {
    "slideshow": {
     "slide_type": "subslide"
    }
   },
   "source": [
    "## Training a Neural Network\n",
    "\n",
    "**For this reason, NNs are usually trained via _gradient descent_:**\n",
    "\n",
    "Starting from a parameter vector $w_0$, we repeat:\n",
    "\n",
    "$$\n",
    "w_{k+1} = w_{k} - \\eta_k \\nabla_{w} L(\\hat{y}, f(\\hat{x}, w_k))\n",
    "$$\n",
    "\n",
    "* I.e. we adjust the current parameter vector $w_k$\n",
    "* ...In the direction _opposite_ to the loss gradient $\\nabla_{w} L(\\hat{y}, f(\\hat{x}, w_k))$\n",
    "\n",
    "By doing this, we (roughly) cause the loss function to decrease\n",
    "\n",
    "**There are several algorithms based on gradient descent**\n",
    "\n",
    "E.g. Gradient Descent, Adagrad, Adadelta, RMS Prop, Adam...\n",
    "\n",
    "* They handle differently the step size $\\eta_k$\n",
    "* ...And sometimes they change other aspects of the process"
   ]
  },
  {
   "cell_type": "markdown",
   "metadata": {
    "slideshow": {
     "slide_type": "subslide"
    }
   },
   "source": [
    "## Training a Neural Network\n",
    "\n",
    "**There is one specific \"trick\" that all approaches rely on**\n",
    "\n",
    "Rather than using all examples to compute the gradient:\n",
    "\n",
    "$$\n",
    "w_{k+1} = w_{k+1} - \\eta_k \\nabla_{w} L(\\hat{y}, f(\\hat{x}, w_k))\n",
    "$$\n",
    "\n",
    "...They instead randomly sample a subset $(\\hat{x}^\\prime, \\hat{y}^\\prime) \\sim (\\hat{x}, \\hat{y})$:\n",
    "\n",
    "$$\n",
    "w_{k+1} = w_{k+1} - \\eta_k \\nabla_{w} L(\\hat{y}^\\prime, f(\\hat{x}^\\prime, w_k))\n",
    "$$\n",
    "\n",
    "This approach is known as _Stochastic Gradient Descent_\n",
    "\n",
    "* Typically examples are first shuffled\n",
    "* Then partitioned in small groups called _mini-batches_\n",
    "* Then we run an gradient descent iteration over each mini-batch\n",
    "\n",
    "Once all examples have been considered, we have completed an _epoch_"
   ]
  },
  {
   "cell_type": "markdown",
   "metadata": {
    "slideshow": {
     "slide_type": "subslide"
    }
   },
   "source": [
    "## Standardizing the Data\n",
    "\n",
    "**Since we are using gradient descent**\n",
    "\n",
    "...It's in general a good idea to _normalize/standardiza the data_\n",
    "\n",
    "* Gradient descent methods are affected by their startin point (i.e. $w_0$)\n",
    "* NN training libraries are very good at choosing those\n",
    "* ...Provided that all inputs and output are reasonably close to 0"
   ]
  },
  {
   "cell_type": "code",
   "execution_count": 7,
   "metadata": {},
   "outputs": [],
   "source": [
    "x_scaler, y_scaler = StandardScaler(), StandardScaler()\n",
    "X_tr_s = x_scaler.fit_transform(X_tr)\n",
    "X_ts_s = x_scaler.transform(X_ts)\n",
    "y_tr_s = y_scaler.fit_transform(y_tr)\n",
    "y_ts_s = y_scaler.transform(y_ts)"
   ]
  },
  {
   "cell_type": "markdown",
   "metadata": {},
   "source": [
    "Skipping this step can makes training ineffective and/or unrealiable"
   ]
  },
  {
   "cell_type": "markdown",
   "metadata": {
    "slideshow": {
     "slide_type": "subslide"
    }
   },
   "source": [
    "## Training a Neural Network in Keras\n",
    "\n",
    "**Training a Neural Network in Keras requires two steps**\n",
    "\n",
    "* First, se setup the training problem by calling the `compile` method\n",
    "* Then, we start training by calling the `fit` method"
   ]
  },
  {
   "cell_type": "code",
   "execution_count": 8,
   "metadata": {
    "scrolled": true
   },
   "outputs": [
    {
     "name": "stdout",
     "output_type": "stream",
     "text": [
      "Epoch 1/350\n",
      "9/9 [==============================] - 0s 1ms/step - loss: 0.7935\n",
      "Epoch 2/350\n",
      "9/9 [==============================] - 0s 1ms/step - loss: 0.7034\n",
      "Epoch 3/350\n",
      "9/9 [==============================] - 0s 908us/step - loss: 0.6337\n",
      "Epoch 4/350\n",
      "9/9 [==============================] - 0s 954us/step - loss: 0.5819\n",
      "Epoch 5/350\n",
      "9/9 [==============================] - 0s 950us/step - loss: 0.5436\n",
      "Epoch 6/350\n",
      "9/9 [==============================] - 0s 997us/step - loss: 0.5117\n",
      "Epoch 7/350\n",
      "9/9 [==============================] - 0s 954us/step - loss: 0.4845\n",
      "Epoch 8/350\n",
      "9/9 [==============================] - 0s 976us/step - loss: 0.4559\n",
      "Epoch 9/350\n",
      "9/9 [==============================] - 0s 913us/step - loss: 0.4343\n",
      "Epoch 10/350\n",
      "9/9 [==============================] - 0s 991us/step - loss: 0.4130\n",
      "Epoch 11/350\n",
      "9/9 [==============================] - 0s 953us/step - loss: 0.3945\n",
      "Epoch 12/350\n",
      "9/9 [==============================] - 0s 1ms/step - loss: 0.3791\n",
      "Epoch 13/350\n",
      "9/9 [==============================] - 0s 1ms/step - loss: 0.3625\n",
      "Epoch 14/350\n",
      "9/9 [==============================] - 0s 996us/step - loss: 0.3497\n",
      "Epoch 15/350\n",
      "9/9 [==============================] - 0s 978us/step - loss: 0.3383\n",
      "Epoch 16/350\n",
      "9/9 [==============================] - 0s 863us/step - loss: 0.3277\n",
      "Epoch 17/350\n",
      "9/9 [==============================] - 0s 971us/step - loss: 0.3188\n",
      "Epoch 18/350\n",
      "9/9 [==============================] - 0s 967us/step - loss: 0.3110\n",
      "Epoch 19/350\n",
      "9/9 [==============================] - 0s 1ms/step - loss: 0.3043\n",
      "Epoch 20/350\n",
      "9/9 [==============================] - 0s 848us/step - loss: 0.2982\n",
      "Epoch 21/350\n",
      "9/9 [==============================] - 0s 1ms/step - loss: 0.2929\n",
      "Epoch 22/350\n",
      "9/9 [==============================] - 0s 899us/step - loss: 0.2891\n",
      "Epoch 23/350\n",
      "9/9 [==============================] - 0s 946us/step - loss: 0.2846\n",
      "Epoch 24/350\n",
      "9/9 [==============================] - 0s 919us/step - loss: 0.2817\n",
      "Epoch 25/350\n",
      "9/9 [==============================] - 0s 2ms/step - loss: 0.2786\n",
      "Epoch 26/350\n",
      "9/9 [==============================] - 0s 1ms/step - loss: 0.2767\n",
      "Epoch 27/350\n",
      "9/9 [==============================] - 0s 862us/step - loss: 0.2740\n",
      "Epoch 28/350\n",
      "9/9 [==============================] - 0s 1ms/step - loss: 0.2721\n",
      "Epoch 29/350\n",
      "9/9 [==============================] - 0s 884us/step - loss: 0.2695\n",
      "Epoch 30/350\n",
      "9/9 [==============================] - 0s 853us/step - loss: 0.2680\n",
      "Epoch 31/350\n",
      "9/9 [==============================] - 0s 857us/step - loss: 0.2668\n",
      "Epoch 32/350\n",
      "9/9 [==============================] - 0s 809us/step - loss: 0.2660\n",
      "Epoch 33/350\n",
      "9/9 [==============================] - 0s 909us/step - loss: 0.2641\n",
      "Epoch 34/350\n",
      "9/9 [==============================] - 0s 855us/step - loss: 0.2627\n",
      "Epoch 35/350\n",
      "9/9 [==============================] - 0s 938us/step - loss: 0.2616\n",
      "Epoch 36/350\n",
      "9/9 [==============================] - 0s 872us/step - loss: 0.2605\n",
      "Epoch 37/350\n",
      "9/9 [==============================] - 0s 945us/step - loss: 0.2595\n",
      "Epoch 38/350\n",
      "9/9 [==============================] - 0s 871us/step - loss: 0.2582\n",
      "Epoch 39/350\n",
      "9/9 [==============================] - 0s 919us/step - loss: 0.2577\n",
      "Epoch 40/350\n",
      "9/9 [==============================] - 0s 879us/step - loss: 0.2573\n",
      "Epoch 41/350\n",
      "9/9 [==============================] - 0s 925us/step - loss: 0.2558\n",
      "Epoch 42/350\n",
      "9/9 [==============================] - 0s 1ms/step - loss: 0.2545\n",
      "Epoch 43/350\n",
      "9/9 [==============================] - 0s 929us/step - loss: 0.2539\n",
      "Epoch 44/350\n",
      "9/9 [==============================] - 0s 887us/step - loss: 0.2534\n",
      "Epoch 45/350\n",
      "9/9 [==============================] - 0s 818us/step - loss: 0.2526\n",
      "Epoch 46/350\n",
      "9/9 [==============================] - 0s 850us/step - loss: 0.2514\n",
      "Epoch 47/350\n",
      "9/9 [==============================] - 0s 822us/step - loss: 0.2509\n",
      "Epoch 48/350\n",
      "9/9 [==============================] - 0s 895us/step - loss: 0.2502\n",
      "Epoch 49/350\n",
      "9/9 [==============================] - 0s 1ms/step - loss: 0.2504\n",
      "Epoch 50/350\n",
      "9/9 [==============================] - 0s 971us/step - loss: 0.2491\n",
      "Epoch 51/350\n",
      "9/9 [==============================] - 0s 860us/step - loss: 0.2481\n",
      "Epoch 52/350\n",
      "9/9 [==============================] - 0s 1ms/step - loss: 0.2476\n",
      "Epoch 53/350\n",
      "9/9 [==============================] - 0s 855us/step - loss: 0.2468\n",
      "Epoch 54/350\n",
      "9/9 [==============================] - 0s 1ms/step - loss: 0.2463\n",
      "Epoch 55/350\n",
      "9/9 [==============================] - 0s 855us/step - loss: 0.2454\n",
      "Epoch 56/350\n",
      "9/9 [==============================] - 0s 961us/step - loss: 0.2452\n",
      "Epoch 57/350\n",
      "9/9 [==============================] - 0s 872us/step - loss: 0.2444\n",
      "Epoch 58/350\n",
      "9/9 [==============================] - 0s 1ms/step - loss: 0.2440\n",
      "Epoch 59/350\n",
      "9/9 [==============================] - 0s 864us/step - loss: 0.2433\n",
      "Epoch 60/350\n",
      "9/9 [==============================] - 0s 882us/step - loss: 0.2426\n",
      "Epoch 61/350\n",
      "9/9 [==============================] - 0s 894us/step - loss: 0.2425\n",
      "Epoch 62/350\n",
      "9/9 [==============================] - 0s 840us/step - loss: 0.2418\n",
      "Epoch 63/350\n",
      "9/9 [==============================] - 0s 880us/step - loss: 0.2410\n",
      "Epoch 64/350\n",
      "9/9 [==============================] - 0s 866us/step - loss: 0.2409\n",
      "Epoch 65/350\n",
      "9/9 [==============================] - 0s 926us/step - loss: 0.2404\n",
      "Epoch 66/350\n",
      "9/9 [==============================] - 0s 868us/step - loss: 0.2397\n",
      "Epoch 67/350\n",
      "9/9 [==============================] - 0s 977us/step - loss: 0.2393\n",
      "Epoch 68/350\n",
      "9/9 [==============================] - 0s 895us/step - loss: 0.2382\n",
      "Epoch 69/350\n",
      "9/9 [==============================] - 0s 983us/step - loss: 0.2380\n",
      "Epoch 70/350\n",
      "9/9 [==============================] - 0s 956us/step - loss: 0.2374\n",
      "Epoch 71/350\n",
      "9/9 [==============================] - 0s 907us/step - loss: 0.2371\n",
      "Epoch 72/350\n",
      "9/9 [==============================] - 0s 932us/step - loss: 0.2364\n",
      "Epoch 73/350\n",
      "9/9 [==============================] - 0s 930us/step - loss: 0.2365\n",
      "Epoch 74/350\n",
      "9/9 [==============================] - 0s 886us/step - loss: 0.2357\n",
      "Epoch 75/350\n",
      "9/9 [==============================] - 0s 880us/step - loss: 0.2349\n",
      "Epoch 76/350\n",
      "9/9 [==============================] - 0s 943us/step - loss: 0.2345\n",
      "Epoch 77/350\n",
      "9/9 [==============================] - 0s 863us/step - loss: 0.2338\n",
      "Epoch 78/350\n",
      "9/9 [==============================] - 0s 915us/step - loss: 0.2335\n",
      "Epoch 79/350\n",
      "9/9 [==============================] - 0s 824us/step - loss: 0.2328\n",
      "Epoch 80/350\n",
      "9/9 [==============================] - 0s 912us/step - loss: 0.2325\n",
      "Epoch 81/350\n",
      "9/9 [==============================] - 0s 852us/step - loss: 0.2321\n",
      "Epoch 82/350\n",
      "9/9 [==============================] - 0s 908us/step - loss: 0.2318\n",
      "Epoch 83/350\n",
      "9/9 [==============================] - 0s 892us/step - loss: 0.2314\n",
      "Epoch 84/350\n",
      "9/9 [==============================] - 0s 931us/step - loss: 0.2319\n",
      "Epoch 85/350\n",
      "9/9 [==============================] - 0s 919us/step - loss: 0.2304\n",
      "Epoch 86/350\n",
      "9/9 [==============================] - 0s 883us/step - loss: 0.2299\n",
      "Epoch 87/350\n",
      "9/9 [==============================] - 0s 878us/step - loss: 0.2313\n",
      "Epoch 88/350\n",
      "9/9 [==============================] - 0s 814us/step - loss: 0.2291\n",
      "Epoch 89/350\n",
      "9/9 [==============================] - 0s 901us/step - loss: 0.2292\n",
      "Epoch 90/350\n",
      "9/9 [==============================] - 0s 817us/step - loss: 0.2300\n",
      "Epoch 91/350\n",
      "9/9 [==============================] - 0s 924us/step - loss: 0.2286\n",
      "Epoch 92/350\n",
      "9/9 [==============================] - 0s 961us/step - loss: 0.2287\n",
      "Epoch 93/350\n",
      "9/9 [==============================] - 0s 1ms/step - loss: 0.2278\n",
      "Epoch 94/350\n",
      "9/9 [==============================] - 0s 884us/step - loss: 0.2278\n",
      "Epoch 95/350\n",
      "9/9 [==============================] - 0s 912us/step - loss: 0.2273\n",
      "Epoch 96/350\n",
      "9/9 [==============================] - 0s 863us/step - loss: 0.2267\n",
      "Epoch 97/350\n",
      "9/9 [==============================] - 0s 892us/step - loss: 0.2264\n",
      "Epoch 98/350\n",
      "9/9 [==============================] - 0s 885us/step - loss: 0.2266\n",
      "Epoch 99/350\n",
      "9/9 [==============================] - 0s 875us/step - loss: 0.2267\n",
      "Epoch 100/350\n",
      "9/9 [==============================] - 0s 848us/step - loss: 0.2268\n",
      "Epoch 101/350\n",
      "9/9 [==============================] - 0s 843us/step - loss: 0.2257\n",
      "Epoch 102/350\n"
     ]
    },
    {
     "name": "stdout",
     "output_type": "stream",
     "text": [
      "9/9 [==============================] - 0s 893us/step - loss: 0.2255\n",
      "Epoch 103/350\n",
      "9/9 [==============================] - 0s 829us/step - loss: 0.2250\n",
      "Epoch 104/350\n",
      "9/9 [==============================] - 0s 936us/step - loss: 0.2252\n",
      "Epoch 105/350\n",
      "9/9 [==============================] - 0s 888us/step - loss: 0.2254\n",
      "Epoch 106/350\n",
      "9/9 [==============================] - 0s 918us/step - loss: 0.2242\n",
      "Epoch 107/350\n",
      "9/9 [==============================] - 0s 830us/step - loss: 0.2239\n",
      "Epoch 108/350\n",
      "9/9 [==============================] - 0s 960us/step - loss: 0.2239\n",
      "Epoch 109/350\n",
      "9/9 [==============================] - 0s 795us/step - loss: 0.2239\n",
      "Epoch 110/350\n",
      "9/9 [==============================] - 0s 853us/step - loss: 0.2233\n",
      "Epoch 111/350\n",
      "9/9 [==============================] - 0s 835us/step - loss: 0.2234\n",
      "Epoch 112/350\n",
      "9/9 [==============================] - 0s 841us/step - loss: 0.2233\n",
      "Epoch 113/350\n",
      "9/9 [==============================] - 0s 875us/step - loss: 0.2225\n",
      "Epoch 114/350\n",
      "9/9 [==============================] - 0s 811us/step - loss: 0.2221\n",
      "Epoch 115/350\n",
      "9/9 [==============================] - 0s 913us/step - loss: 0.2220\n",
      "Epoch 116/350\n",
      "9/9 [==============================] - 0s 811us/step - loss: 0.2223\n",
      "Epoch 117/350\n",
      "9/9 [==============================] - 0s 910us/step - loss: 0.2218\n",
      "Epoch 118/350\n",
      "9/9 [==============================] - 0s 810us/step - loss: 0.2212\n",
      "Epoch 119/350\n",
      "9/9 [==============================] - 0s 880us/step - loss: 0.2210\n",
      "Epoch 120/350\n",
      "9/9 [==============================] - 0s 844us/step - loss: 0.2208\n",
      "Epoch 121/350\n",
      "9/9 [==============================] - 0s 896us/step - loss: 0.2206\n",
      "Epoch 122/350\n",
      "9/9 [==============================] - 0s 859us/step - loss: 0.2204\n",
      "Epoch 123/350\n",
      "9/9 [==============================] - 0s 802us/step - loss: 0.2209\n",
      "Epoch 124/350\n",
      "9/9 [==============================] - 0s 914us/step - loss: 0.2200\n",
      "Epoch 125/350\n",
      "9/9 [==============================] - 0s 805us/step - loss: 0.2201\n",
      "Epoch 126/350\n",
      "9/9 [==============================] - 0s 873us/step - loss: 0.2197\n",
      "Epoch 127/350\n",
      "9/9 [==============================] - 0s 818us/step - loss: 0.2194\n",
      "Epoch 128/350\n",
      "9/9 [==============================] - 0s 827us/step - loss: 0.2195\n",
      "Epoch 129/350\n",
      "9/9 [==============================] - 0s 854us/step - loss: 0.2193\n",
      "Epoch 130/350\n",
      "9/9 [==============================] - 0s 803us/step - loss: 0.2192\n",
      "Epoch 131/350\n",
      "9/9 [==============================] - 0s 925us/step - loss: 0.2183\n",
      "Epoch 132/350\n",
      "9/9 [==============================] - 0s 805us/step - loss: 0.2183\n",
      "Epoch 133/350\n",
      "9/9 [==============================] - 0s 895us/step - loss: 0.2182\n",
      "Epoch 134/350\n",
      "9/9 [==============================] - 0s 787us/step - loss: 0.2181\n",
      "Epoch 135/350\n",
      "9/9 [==============================] - 0s 898us/step - loss: 0.2185\n",
      "Epoch 136/350\n",
      "9/9 [==============================] - 0s 811us/step - loss: 0.2178\n",
      "Epoch 137/350\n",
      "9/9 [==============================] - 0s 938us/step - loss: 0.2174\n",
      "Epoch 138/350\n",
      "9/9 [==============================] - 0s 870us/step - loss: 0.2173\n",
      "Epoch 139/350\n",
      "9/9 [==============================] - 0s 908us/step - loss: 0.2170\n",
      "Epoch 140/350\n",
      "9/9 [==============================] - 0s 852us/step - loss: 0.2168\n",
      "Epoch 141/350\n",
      "9/9 [==============================] - 0s 832us/step - loss: 0.2165\n",
      "Epoch 142/350\n",
      "9/9 [==============================] - 0s 986us/step - loss: 0.2165\n",
      "Epoch 143/350\n",
      "9/9 [==============================] - 0s 823us/step - loss: 0.2168\n",
      "Epoch 144/350\n",
      "9/9 [==============================] - 0s 948us/step - loss: 0.2164\n",
      "Epoch 145/350\n",
      "9/9 [==============================] - 0s 795us/step - loss: 0.2167\n",
      "Epoch 146/350\n",
      "9/9 [==============================] - 0s 924us/step - loss: 0.2158\n",
      "Epoch 147/350\n",
      "9/9 [==============================] - 0s 801us/step - loss: 0.2160\n",
      "Epoch 148/350\n",
      "9/9 [==============================] - 0s 858us/step - loss: 0.2158\n",
      "Epoch 149/350\n",
      "9/9 [==============================] - 0s 858us/step - loss: 0.2154\n",
      "Epoch 150/350\n",
      "9/9 [==============================] - 0s 779us/step - loss: 0.2153\n",
      "Epoch 151/350\n",
      "9/9 [==============================] - 0s 877us/step - loss: 0.2153\n",
      "Epoch 152/350\n",
      "9/9 [==============================] - 0s 839us/step - loss: 0.2149\n",
      "Epoch 153/350\n",
      "9/9 [==============================] - 0s 1ms/step - loss: 0.2146\n",
      "Epoch 154/350\n",
      "9/9 [==============================] - 0s 832us/step - loss: 0.2155\n",
      "Epoch 155/350\n",
      "9/9 [==============================] - 0s 1ms/step - loss: 0.2146\n",
      "Epoch 156/350\n",
      "9/9 [==============================] - 0s 807us/step - loss: 0.2149\n",
      "Epoch 157/350\n",
      "9/9 [==============================] - 0s 894us/step - loss: 0.2141\n",
      "Epoch 158/350\n",
      "9/9 [==============================] - 0s 827us/step - loss: 0.2140\n",
      "Epoch 159/350\n",
      "9/9 [==============================] - 0s 845us/step - loss: 0.2139\n",
      "Epoch 160/350\n",
      "9/9 [==============================] - 0s 854us/step - loss: 0.2137\n",
      "Epoch 161/350\n",
      "9/9 [==============================] - 0s 830us/step - loss: 0.2138\n",
      "Epoch 162/350\n",
      "9/9 [==============================] - 0s 954us/step - loss: 0.2137\n",
      "Epoch 163/350\n",
      "9/9 [==============================] - 0s 773us/step - loss: 0.2135\n",
      "Epoch 164/350\n",
      "9/9 [==============================] - 0s 878us/step - loss: 0.2131\n",
      "Epoch 165/350\n",
      "9/9 [==============================] - 0s 804us/step - loss: 0.2129\n",
      "Epoch 166/350\n",
      "9/9 [==============================] - 0s 873us/step - loss: 0.2130\n",
      "Epoch 167/350\n",
      "9/9 [==============================] - 0s 834us/step - loss: 0.2128\n",
      "Epoch 168/350\n",
      "9/9 [==============================] - 0s 787us/step - loss: 0.2125\n",
      "Epoch 169/350\n",
      "9/9 [==============================] - 0s 904us/step - loss: 0.2134\n",
      "Epoch 170/350\n",
      "9/9 [==============================] - 0s 790us/step - loss: 0.2125\n",
      "Epoch 171/350\n",
      "9/9 [==============================] - 0s 859us/step - loss: 0.2122\n",
      "Epoch 172/350\n",
      "9/9 [==============================] - 0s 800us/step - loss: 0.2124\n",
      "Epoch 173/350\n",
      "9/9 [==============================] - 0s 857us/step - loss: 0.2114\n",
      "Epoch 174/350\n",
      "9/9 [==============================] - 0s 806us/step - loss: 0.2119\n",
      "Epoch 175/350\n",
      "9/9 [==============================] - 0s 791us/step - loss: 0.2119\n",
      "Epoch 176/350\n",
      "9/9 [==============================] - 0s 888us/step - loss: 0.2113\n",
      "Epoch 177/350\n",
      "9/9 [==============================] - 0s 857us/step - loss: 0.2112\n",
      "Epoch 178/350\n",
      "9/9 [==============================] - 0s 898us/step - loss: 0.2113\n",
      "Epoch 179/350\n",
      "9/9 [==============================] - 0s 833us/step - loss: 0.2116\n",
      "Epoch 180/350\n",
      "9/9 [==============================] - 0s 914us/step - loss: 0.2106\n",
      "Epoch 181/350\n",
      "9/9 [==============================] - 0s 867us/step - loss: 0.2108\n",
      "Epoch 182/350\n",
      "9/9 [==============================] - 0s 893us/step - loss: 0.2102\n",
      "Epoch 183/350\n",
      "9/9 [==============================] - 0s 1ms/step - loss: 0.2102\n",
      "Epoch 184/350\n",
      "9/9 [==============================] - 0s 880us/step - loss: 0.2100\n",
      "Epoch 185/350\n",
      "9/9 [==============================] - 0s 857us/step - loss: 0.2099\n",
      "Epoch 186/350\n",
      "9/9 [==============================] - 0s 931us/step - loss: 0.2100\n",
      "Epoch 187/350\n",
      "9/9 [==============================] - 0s 824us/step - loss: 0.2099\n",
      "Epoch 188/350\n",
      "9/9 [==============================] - 0s 858us/step - loss: 0.2104\n",
      "Epoch 189/350\n",
      "9/9 [==============================] - 0s 873us/step - loss: 0.2096\n",
      "Epoch 190/350\n",
      "9/9 [==============================] - 0s 854us/step - loss: 0.2092\n",
      "Epoch 191/350\n",
      "9/9 [==============================] - 0s 892us/step - loss: 0.2094\n",
      "Epoch 192/350\n",
      "9/9 [==============================] - 0s 867us/step - loss: 0.2092\n",
      "Epoch 193/350\n",
      "9/9 [==============================] - 0s 949us/step - loss: 0.2092\n",
      "Epoch 194/350\n",
      "9/9 [==============================] - 0s 849us/step - loss: 0.2090\n",
      "Epoch 195/350\n",
      "9/9 [==============================] - 0s 964us/step - loss: 0.2086\n",
      "Epoch 196/350\n",
      "9/9 [==============================] - 0s 862us/step - loss: 0.2088\n",
      "Epoch 197/350\n",
      "9/9 [==============================] - 0s 1ms/step - loss: 0.2085\n",
      "Epoch 198/350\n",
      "9/9 [==============================] - 0s 951us/step - loss: 0.2087\n",
      "Epoch 199/350\n",
      "9/9 [==============================] - 0s 950us/step - loss: 0.2093\n",
      "Epoch 200/350\n",
      "9/9 [==============================] - 0s 806us/step - loss: 0.2081\n",
      "Epoch 201/350\n",
      "9/9 [==============================] - 0s 924us/step - loss: 0.2078\n",
      "Epoch 202/350\n"
     ]
    },
    {
     "name": "stdout",
     "output_type": "stream",
     "text": [
      "9/9 [==============================] - 0s 820us/step - loss: 0.2078\n",
      "Epoch 203/350\n",
      "9/9 [==============================] - 0s 917us/step - loss: 0.2077\n",
      "Epoch 204/350\n",
      "9/9 [==============================] - 0s 839us/step - loss: 0.2074\n",
      "Epoch 205/350\n",
      "9/9 [==============================] - 0s 937us/step - loss: 0.2073\n",
      "Epoch 206/350\n",
      "9/9 [==============================] - 0s 854us/step - loss: 0.2070\n",
      "Epoch 207/350\n",
      "9/9 [==============================] - 0s 894us/step - loss: 0.2073\n",
      "Epoch 208/350\n",
      "9/9 [==============================] - 0s 887us/step - loss: 0.2064\n",
      "Epoch 209/350\n",
      "9/9 [==============================] - 0s 849us/step - loss: 0.2070\n",
      "Epoch 210/350\n",
      "9/9 [==============================] - 0s 883us/step - loss: 0.2067\n",
      "Epoch 211/350\n",
      "9/9 [==============================] - 0s 792us/step - loss: 0.2066\n",
      "Epoch 212/350\n",
      "9/9 [==============================] - 0s 903us/step - loss: 0.2059\n",
      "Epoch 213/350\n",
      "9/9 [==============================] - 0s 808us/step - loss: 0.2062\n",
      "Epoch 214/350\n",
      "9/9 [==============================] - 0s 882us/step - loss: 0.2070\n",
      "Epoch 215/350\n",
      "9/9 [==============================] - 0s 810us/step - loss: 0.2066\n",
      "Epoch 216/350\n",
      "9/9 [==============================] - 0s 815us/step - loss: 0.2061\n",
      "Epoch 217/350\n",
      "9/9 [==============================] - 0s 866us/step - loss: 0.2060\n",
      "Epoch 218/350\n",
      "9/9 [==============================] - 0s 818us/step - loss: 0.2055\n",
      "Epoch 219/350\n",
      "9/9 [==============================] - 0s 922us/step - loss: 0.2056\n",
      "Epoch 220/350\n",
      "9/9 [==============================] - 0s 799us/step - loss: 0.2056\n",
      "Epoch 221/350\n",
      "9/9 [==============================] - 0s 940us/step - loss: 0.2055\n",
      "Epoch 222/350\n",
      "9/9 [==============================] - 0s 805us/step - loss: 0.2055\n",
      "Epoch 223/350\n",
      "9/9 [==============================] - 0s 884us/step - loss: 0.2050\n",
      "Epoch 224/350\n",
      "9/9 [==============================] - 0s 846us/step - loss: 0.2050\n",
      "Epoch 225/350\n",
      "9/9 [==============================] - 0s 862us/step - loss: 0.2049\n",
      "Epoch 226/350\n",
      "9/9 [==============================] - 0s 914us/step - loss: 0.2044\n",
      "Epoch 227/350\n",
      "9/9 [==============================] - 0s 860us/step - loss: 0.2042\n",
      "Epoch 228/350\n",
      "9/9 [==============================] - 0s 900us/step - loss: 0.2044\n",
      "Epoch 229/350\n",
      "9/9 [==============================] - 0s 844us/step - loss: 0.2038\n",
      "Epoch 230/350\n",
      "9/9 [==============================] - 0s 958us/step - loss: 0.2045\n",
      "Epoch 231/350\n",
      "9/9 [==============================] - 0s 822us/step - loss: 0.2044\n",
      "Epoch 232/350\n",
      "9/9 [==============================] - 0s 949us/step - loss: 0.2041\n",
      "Epoch 233/350\n",
      "9/9 [==============================] - 0s 804us/step - loss: 0.2034\n",
      "Epoch 234/350\n",
      "9/9 [==============================] - 0s 900us/step - loss: 0.2034\n",
      "Epoch 235/350\n",
      "9/9 [==============================] - 0s 816us/step - loss: 0.2031\n",
      "Epoch 236/350\n",
      "9/9 [==============================] - 0s 817us/step - loss: 0.2035\n",
      "Epoch 237/350\n",
      "9/9 [==============================] - 0s 913us/step - loss: 0.2034\n",
      "Epoch 238/350\n",
      "9/9 [==============================] - 0s 838us/step - loss: 0.2032\n",
      "Epoch 239/350\n",
      "9/9 [==============================] - 0s 970us/step - loss: 0.2029\n",
      "Epoch 240/350\n",
      "9/9 [==============================] - 0s 794us/step - loss: 0.2027\n",
      "Epoch 241/350\n",
      "9/9 [==============================] - 0s 989us/step - loss: 0.2028\n",
      "Epoch 242/350\n",
      "9/9 [==============================] - 0s 821us/step - loss: 0.2024\n",
      "Epoch 243/350\n",
      "9/9 [==============================] - 0s 919us/step - loss: 0.2028\n",
      "Epoch 244/350\n",
      "9/9 [==============================] - 0s 818us/step - loss: 0.2022\n",
      "Epoch 245/350\n",
      "9/9 [==============================] - 0s 905us/step - loss: 0.2021\n",
      "Epoch 246/350\n",
      "9/9 [==============================] - 0s 842us/step - loss: 0.2020\n",
      "Epoch 247/350\n",
      "9/9 [==============================] - 0s 810us/step - loss: 0.2020\n",
      "Epoch 248/350\n",
      "9/9 [==============================] - 0s 933us/step - loss: 0.2021\n",
      "Epoch 249/350\n",
      "9/9 [==============================] - 0s 819us/step - loss: 0.2016\n",
      "Epoch 250/350\n",
      "9/9 [==============================] - 0s 903us/step - loss: 0.2029\n",
      "Epoch 251/350\n",
      "9/9 [==============================] - 0s 816us/step - loss: 0.2024\n",
      "Epoch 252/350\n",
      "9/9 [==============================] - 0s 1ms/step - loss: 0.2014\n",
      "Epoch 253/350\n",
      "9/9 [==============================] - 0s 828us/step - loss: 0.2020\n",
      "Epoch 254/350\n",
      "9/9 [==============================] - 0s 961us/step - loss: 0.2012\n",
      "Epoch 255/350\n",
      "9/9 [==============================] - 0s 855us/step - loss: 0.2015\n",
      "Epoch 256/350\n",
      "9/9 [==============================] - 0s 862us/step - loss: 0.2004\n",
      "Epoch 257/350\n",
      "9/9 [==============================] - 0s 890us/step - loss: 0.2005\n",
      "Epoch 258/350\n",
      "9/9 [==============================] - 0s 858us/step - loss: 0.2009\n",
      "Epoch 259/350\n",
      "9/9 [==============================] - 0s 916us/step - loss: 0.2014\n",
      "Epoch 260/350\n",
      "9/9 [==============================] - 0s 817us/step - loss: 0.2004\n",
      "Epoch 261/350\n",
      "9/9 [==============================] - 0s 938us/step - loss: 0.2006\n",
      "Epoch 262/350\n",
      "9/9 [==============================] - 0s 823us/step - loss: 0.2001\n",
      "Epoch 263/350\n",
      "9/9 [==============================] - 0s 933us/step - loss: 0.2000\n",
      "Epoch 264/350\n",
      "9/9 [==============================] - 0s 784us/step - loss: 0.2007\n",
      "Epoch 265/350\n",
      "9/9 [==============================] - 0s 924us/step - loss: 0.2004\n",
      "Epoch 266/350\n",
      "9/9 [==============================] - 0s 809us/step - loss: 0.2006\n",
      "Epoch 267/350\n",
      "9/9 [==============================] - 0s 826us/step - loss: 0.1998\n",
      "Epoch 268/350\n",
      "9/9 [==============================] - 0s 887us/step - loss: 0.2000\n",
      "Epoch 269/350\n",
      "9/9 [==============================] - 0s 806us/step - loss: 0.1994\n",
      "Epoch 270/350\n",
      "9/9 [==============================] - 0s 950us/step - loss: 0.1995\n",
      "Epoch 271/350\n",
      "9/9 [==============================] - 0s 814us/step - loss: 0.1990\n",
      "Epoch 272/350\n",
      "9/9 [==============================] - 0s 942us/step - loss: 0.1995\n",
      "Epoch 273/350\n",
      "9/9 [==============================] - 0s 838us/step - loss: 0.1995\n",
      "Epoch 274/350\n",
      "9/9 [==============================] - 0s 880us/step - loss: 0.1994\n",
      "Epoch 275/350\n",
      "9/9 [==============================] - 0s 864us/step - loss: 0.1991\n",
      "Epoch 276/350\n",
      "9/9 [==============================] - 0s 849us/step - loss: 0.1994\n",
      "Epoch 277/350\n",
      "9/9 [==============================] - 0s 906us/step - loss: 0.1993\n",
      "Epoch 278/350\n",
      "9/9 [==============================] - 0s 888us/step - loss: 0.1989\n",
      "Epoch 279/350\n",
      "9/9 [==============================] - 0s 960us/step - loss: 0.1986\n",
      "Epoch 280/350\n",
      "9/9 [==============================] - 0s 911us/step - loss: 0.1986\n",
      "Epoch 281/350\n",
      "9/9 [==============================] - 0s 972us/step - loss: 0.1982\n",
      "Epoch 282/350\n",
      "9/9 [==============================] - 0s 817us/step - loss: 0.1981\n",
      "Epoch 283/350\n",
      "9/9 [==============================] - 0s 929us/step - loss: 0.1980\n",
      "Epoch 284/350\n",
      "9/9 [==============================] - 0s 816us/step - loss: 0.1980\n",
      "Epoch 285/350\n",
      "9/9 [==============================] - 0s 939us/step - loss: 0.1980\n",
      "Epoch 286/350\n",
      "9/9 [==============================] - 0s 854us/step - loss: 0.1981\n",
      "Epoch 287/350\n",
      "9/9 [==============================] - 0s 916us/step - loss: 0.1980\n",
      "Epoch 288/350\n",
      "9/9 [==============================] - 0s 833us/step - loss: 0.1983\n",
      "Epoch 289/350\n",
      "9/9 [==============================] - 0s 871us/step - loss: 0.1976\n",
      "Epoch 290/350\n",
      "9/9 [==============================] - 0s 907us/step - loss: 0.1979\n",
      "Epoch 291/350\n",
      "9/9 [==============================] - 0s 860us/step - loss: 0.1974\n",
      "Epoch 292/350\n",
      "9/9 [==============================] - 0s 927us/step - loss: 0.1971\n",
      "Epoch 293/350\n",
      "9/9 [==============================] - 0s 821us/step - loss: 0.1982\n",
      "Epoch 294/350\n",
      "9/9 [==============================] - 0s 936us/step - loss: 0.1969\n",
      "Epoch 295/350\n",
      "9/9 [==============================] - 0s 832us/step - loss: 0.1972\n",
      "Epoch 296/350\n",
      "9/9 [==============================] - 0s 991us/step - loss: 0.1973\n",
      "Epoch 297/350\n",
      "9/9 [==============================] - 0s 836us/step - loss: 0.1970\n",
      "Epoch 298/350\n",
      "9/9 [==============================] - 0s 948us/step - loss: 0.1971\n",
      "Epoch 299/350\n",
      "9/9 [==============================] - 0s 823us/step - loss: 0.1971\n",
      "Epoch 300/350\n",
      "9/9 [==============================] - 0s 891us/step - loss: 0.1963\n",
      "Epoch 301/350\n",
      "9/9 [==============================] - 0s 850us/step - loss: 0.1967\n",
      "Epoch 302/350\n"
     ]
    },
    {
     "name": "stdout",
     "output_type": "stream",
     "text": [
      "9/9 [==============================] - 0s 853us/step - loss: 0.1963\n",
      "Epoch 303/350\n",
      "9/9 [==============================] - 0s 1ms/step - loss: 0.1963\n",
      "Epoch 304/350\n",
      "9/9 [==============================] - 0s 1ms/step - loss: 0.1960\n",
      "Epoch 305/350\n",
      "9/9 [==============================] - 0s 927us/step - loss: 0.1957\n",
      "Epoch 306/350\n",
      "9/9 [==============================] - 0s 984us/step - loss: 0.1965\n",
      "Epoch 307/350\n",
      "9/9 [==============================] - 0s 838us/step - loss: 0.1966\n",
      "Epoch 308/350\n",
      "9/9 [==============================] - 0s 899us/step - loss: 0.1957\n",
      "Epoch 309/350\n",
      "9/9 [==============================] - 0s 869us/step - loss: 0.1963\n",
      "Epoch 310/350\n",
      "9/9 [==============================] - 0s 822us/step - loss: 0.1955\n",
      "Epoch 311/350\n",
      "9/9 [==============================] - 0s 887us/step - loss: 0.1949\n",
      "Epoch 312/350\n",
      "9/9 [==============================] - 0s 802us/step - loss: 0.1953\n",
      "Epoch 313/350\n",
      "9/9 [==============================] - 0s 914us/step - loss: 0.1950\n",
      "Epoch 314/350\n",
      "9/9 [==============================] - 0s 817us/step - loss: 0.1954\n",
      "Epoch 315/350\n",
      "9/9 [==============================] - 0s 883us/step - loss: 0.1953\n",
      "Epoch 316/350\n",
      "9/9 [==============================] - 0s 861us/step - loss: 0.1948\n",
      "Epoch 317/350\n",
      "9/9 [==============================] - 0s 903us/step - loss: 0.1947\n",
      "Epoch 318/350\n",
      "9/9 [==============================] - 0s 882us/step - loss: 0.1954\n",
      "Epoch 319/350\n",
      "9/9 [==============================] - 0s 834us/step - loss: 0.1944\n",
      "Epoch 320/350\n",
      "9/9 [==============================] - 0s 883us/step - loss: 0.1941\n",
      "Epoch 321/350\n",
      "9/9 [==============================] - 0s 791us/step - loss: 0.1955\n",
      "Epoch 322/350\n",
      "9/9 [==============================] - 0s 1ms/step - loss: 0.1940\n",
      "Epoch 323/350\n",
      "9/9 [==============================] - 0s 831us/step - loss: 0.1945\n",
      "Epoch 324/350\n",
      "9/9 [==============================] - 0s 992us/step - loss: 0.1940\n",
      "Epoch 325/350\n",
      "9/9 [==============================] - 0s 819us/step - loss: 0.1957\n",
      "Epoch 326/350\n",
      "9/9 [==============================] - 0s 995us/step - loss: 0.1939\n",
      "Epoch 327/350\n",
      "9/9 [==============================] - 0s 814us/step - loss: 0.1944\n",
      "Epoch 328/350\n",
      "9/9 [==============================] - 0s 925us/step - loss: 0.1937\n",
      "Epoch 329/350\n",
      "9/9 [==============================] - 0s 815us/step - loss: 0.1936\n",
      "Epoch 330/350\n",
      "9/9 [==============================] - 0s 842us/step - loss: 0.1938\n",
      "Epoch 331/350\n",
      "9/9 [==============================] - 0s 931us/step - loss: 0.1934\n",
      "Epoch 332/350\n",
      "9/9 [==============================] - 0s 905us/step - loss: 0.1932\n",
      "Epoch 333/350\n",
      "9/9 [==============================] - 0s 909us/step - loss: 0.1930\n",
      "Epoch 334/350\n",
      "9/9 [==============================] - 0s 804us/step - loss: 0.1933\n",
      "Epoch 335/350\n",
      "9/9 [==============================] - 0s 964us/step - loss: 0.1931\n",
      "Epoch 336/350\n",
      "9/9 [==============================] - 0s 802us/step - loss: 0.1928\n",
      "Epoch 337/350\n",
      "9/9 [==============================] - 0s 1ms/step - loss: 0.1924\n",
      "Epoch 338/350\n",
      "9/9 [==============================] - 0s 804us/step - loss: 0.1928\n",
      "Epoch 339/350\n",
      "9/9 [==============================] - 0s 927us/step - loss: 0.1927\n",
      "Epoch 340/350\n",
      "9/9 [==============================] - 0s 799us/step - loss: 0.1925\n",
      "Epoch 341/350\n",
      "9/9 [==============================] - 0s 828us/step - loss: 0.1924\n",
      "Epoch 342/350\n",
      "9/9 [==============================] - 0s 902us/step - loss: 0.1921\n",
      "Epoch 343/350\n",
      "9/9 [==============================] - 0s 800us/step - loss: 0.1921\n",
      "Epoch 344/350\n",
      "9/9 [==============================] - 0s 937us/step - loss: 0.1923\n",
      "Epoch 345/350\n",
      "9/9 [==============================] - 0s 826us/step - loss: 0.1927\n",
      "Epoch 346/350\n",
      "9/9 [==============================] - 0s 977us/step - loss: 0.1934\n",
      "Epoch 347/350\n",
      "9/9 [==============================] - 0s 848us/step - loss: 0.1921\n",
      "Epoch 348/350\n",
      "9/9 [==============================] - 0s 994us/step - loss: 0.1918\n",
      "Epoch 349/350\n",
      "9/9 [==============================] - 0s 805us/step - loss: 0.1917\n",
      "Epoch 350/350\n",
      "9/9 [==============================] - 0s 1ms/step - loss: 0.1916\n"
     ]
    }
   ],
   "source": [
    "nn.compile(optimizer='adam', loss='mse')\n",
    "history = nn.fit(X_tr_s, y_tr_s, batch_size=32, epochs=350)"
   ]
  },
  {
   "cell_type": "markdown",
   "metadata": {
    "slideshow": {
     "slide_type": "subslide"
    }
   },
   "source": [
    "## Training a Neural Network in Keras\n",
    "\n",
    "**Let's plot the loss behavior over the epochs**"
   ]
  },
  {
   "cell_type": "code",
   "execution_count": 9,
   "metadata": {},
   "outputs": [
    {
     "data": {
      "image/png": "[encoded data removed]",
      "text/plain": [
       "<Figure size 2000x450 with 1 Axes>"
      ]
     },
     "metadata": {},
     "output_type": "display_data"
    }
   ],
   "source": [
    "loss_history = pd.Series(name='loss', data=history.history['loss'])\n",
    "loss_history.plot(figsize=figsize, grid=':');"
   ]
  },
  {
   "cell_type": "markdown",
   "metadata": {},
   "source": [
    "The flat behavior towards the end is due to the algorithm approaching convergence"
   ]
  },
  {
   "cell_type": "markdown",
   "metadata": {
    "slideshow": {
     "slide_type": "subslide"
    }
   },
   "source": [
    "## Model Evaluation\n",
    "\n",
    "**NNs can be evaluated like any other ML model**\n",
    "\n",
    "Here are the results on the training set"
   ]
  },
  {
   "cell_type": "code",
   "execution_count": 10,
   "metadata": {},
   "outputs": [
    {
     "data": {
      "image/png": "[encoded data removed]",
      "text/plain": [
       "<Figure size 2000x450 with 1 Axes>"
      ]
     },
     "metadata": {},
     "output_type": "display_data"
    },
    {
     "name": "stdout",
     "output_type": "stream",
     "text": [
      "r2 score: 0.809\n"
     ]
    }
   ],
   "source": [
    "nn_pred_tr = y_scaler.inverse_transform(nn.predict(X_tr_s, verbose=0))\n",
    "plt.figure(figsize=figsize)\n",
    "plt.scatter(x=y_tr, y=nn_pred_tr)\n",
    "l, u = min(plt.xlim()[0], plt.ylim()[0]), max(plt.xlim()[1], plt.ylim()[1])\n",
    "plt.plot([l, u], [l, u], linestyle=':', color='tab:orange')\n",
    "plt.grid(); plt.show()\n",
    "print(f'r2 score: {r2_score(y_tr, nn_pred_tr):.3f}')"
   ]
  },
  {
   "cell_type": "markdown",
   "metadata": {
    "slideshow": {
     "slide_type": "subslide"
    }
   },
   "source": [
    "## Model Evaluation\n",
    "\n",
    "**NNs can be evaluated like any other ML model**\n",
    "\n",
    "...And those on the test set"
   ]
  },
  {
   "cell_type": "code",
   "execution_count": 11,
   "metadata": {},
   "outputs": [
    {
     "data": {
      "image/png": "[encoded data removed]",
      "text/plain": [
       "<Figure size 2000x450 with 1 Axes>"
      ]
     },
     "metadata": {},
     "output_type": "display_data"
    },
    {
     "name": "stdout",
     "output_type": "stream",
     "text": [
      "r2 score: 0.702\n"
     ]
    }
   ],
   "source": [
    "nn_pred_ts = y_scaler.inverse_transform(nn.predict(X_ts_s, verbose=0))\n",
    "plt.figure(figsize=figsize)\n",
    "plt.scatter(x=y_ts, y=nn_pred_ts)\n",
    "l, u = min(plt.xlim()[0], plt.ylim()[0]), max(plt.xlim()[1], plt.ylim()[1])\n",
    "plt.plot([l, u], [l, u], linestyle=':', color='tab:orange')\n",
    "plt.grid(); plt.show()\n",
    "print(f'r2 score: {r2_score(y_ts, nn_pred_ts):.3f}')"
   ]
  },
  {
   "cell_type": "markdown",
   "metadata": {
    "slideshow": {
     "slide_type": "subslide"
    }
   },
   "source": [
    "## NN Output Surface\n",
    "\n",
    "**It's interesting to see how the NN output changes depending on the input**\n",
    "\n",
    "On this purpose, let's build a special dataset\n",
    "\n",
    "* We will take one example as a reference\n",
    "* Then build similar example by chaning a value of a single attribute"
   ]
  },
  {
   "cell_type": "code",
   "execution_count": 12,
   "metadata": {},
   "outputs": [
    {
     "data": {
      "text/html": [
       "<div>\n",
       "<style scoped>\n",
       "    .dataframe tbody tr th:only-of-type {\n",
       "        vertical-align: middle;\n",
       "    }\n",
       "\n",
       "    .dataframe tbody tr th {\n",
       "        vertical-align: top;\n",
       "    }\n",
       "\n",
       "    .dataframe thead th {\n",
       "        text-align: right;\n",
       "    }\n",
       "</style>\n",
       "<table border=\"1\" class=\"dataframe\">\n",
       "  <thead>\n",
       "    <tr style=\"text-align: right;\">\n",
       "      <th></th>\n",
       "      <th>house age</th>\n",
       "      <th>dist to MRT</th>\n",
       "      <th>#stores</th>\n",
       "      <th>latitude</th>\n",
       "      <th>longitude</th>\n",
       "    </tr>\n",
       "  </thead>\n",
       "  <tbody>\n",
       "    <tr>\n",
       "      <th>0</th>\n",
       "      <td>41.3</td>\n",
       "      <td>23.382840</td>\n",
       "      <td>6.0</td>\n",
       "      <td>24.96674</td>\n",
       "      <td>121.54039</td>\n",
       "    </tr>\n",
       "    <tr>\n",
       "      <th>1</th>\n",
       "      <td>41.3</td>\n",
       "      <td>29.853949</td>\n",
       "      <td>6.0</td>\n",
       "      <td>24.96674</td>\n",
       "      <td>121.54039</td>\n",
       "    </tr>\n",
       "    <tr>\n",
       "      <th>2</th>\n",
       "      <td>41.3</td>\n",
       "      <td>36.325059</td>\n",
       "      <td>6.0</td>\n",
       "      <td>24.96674</td>\n",
       "      <td>121.54039</td>\n",
       "    </tr>\n",
       "    <tr>\n",
       "      <th>3</th>\n",
       "      <td>41.3</td>\n",
       "      <td>42.796168</td>\n",
       "      <td>6.0</td>\n",
       "      <td>24.96674</td>\n",
       "      <td>121.54039</td>\n",
       "    </tr>\n",
       "    <tr>\n",
       "      <th>4</th>\n",
       "      <td>41.3</td>\n",
       "      <td>49.267277</td>\n",
       "      <td>6.0</td>\n",
       "      <td>24.96674</td>\n",
       "      <td>121.54039</td>\n",
       "    </tr>\n",
       "  </tbody>\n",
       "</table>\n",
       "</div>"
      ],
      "text/plain": [
       "   house age  dist to MRT  #stores  latitude  longitude\n",
       "0       41.3    23.382840      6.0  24.96674  121.54039\n",
       "1       41.3    29.853949      6.0  24.96674  121.54039\n",
       "2       41.3    36.325059      6.0  24.96674  121.54039\n",
       "3       41.3    42.796168      6.0  24.96674  121.54039\n",
       "4       41.3    49.267277      6.0  24.96674  121.54039"
      ]
     },
     "execution_count": 12,
     "metadata": {},
     "output_type": "execute_result"
    }
   ],
   "source": [
    "x_ref, a_ref = X_tr.iloc[120], 'dist to MRT'\n",
    "a_vals = np.linspace(X_tr[a_ref].min(), X_tr[a_ref].max(), 1000)\n",
    "\n",
    "x_sensitivity = pd.DataFrame(index=np.arange(len(a_vals)), columns=X_tr.columns)\n",
    "for c in X_tr.columns:\n",
    "    if c == a_ref: x_sensitivity[c] = a_vals\n",
    "    else: x_sensitivity[c] = x_ref[c]\n",
    "x_sensitivity.head()"
   ]
  },
  {
   "cell_type": "markdown",
   "metadata": {
    "slideshow": {
     "slide_type": "subslide"
    }
   },
   "source": [
    "## NN Output Surface\n",
    "\n",
    "**Now, let's see how our NN response to changes in the attribute**"
   ]
  },
  {
   "cell_type": "code",
   "execution_count": 13,
   "metadata": {},
   "outputs": [
    {
     "data": {
      "image/png": "[encoded data removed]",
      "text/plain": [
       "<Figure size 2000x450 with 1 Axes>"
      ]
     },
     "metadata": {},
     "output_type": "display_data"
    }
   ],
   "source": [
    "nn_pred_s = y_scaler.inverse_transform(nn.predict(x_scaler.transform(x_sensitivity), verbose=0))\n",
    "pred_sensitivity = pd.Series(index=a_vals, data=nn_pred_s.ravel())\n",
    "pred_sensitivity.plot(figsize=figsize, grid=':');"
   ]
  },
  {
   "cell_type": "markdown",
   "metadata": {},
   "source": [
    "* The curve is rather smooth (despite the use of piecewise linear activations)\n",
    "* Variations are relatively slow"
   ]
  },
  {
   "cell_type": "markdown",
   "metadata": {
    "slideshow": {
     "slide_type": "subslide"
    }
   },
   "source": [
    "## NN vs RF Output Surface\n",
    "\n",
    "**For comparison, let's see the same response for a RF model**"
   ]
  },
  {
   "cell_type": "code",
   "execution_count": 14,
   "metadata": {},
   "outputs": [
    {
     "data": {
      "image/png": "[encoded data removed]",
      "text/plain": [
       "<Figure size 2000x450 with 1 Axes>"
      ]
     },
     "metadata": {},
     "output_type": "display_data"
    }
   ],
   "source": [
    "rf = RandomForestRegressor()\n",
    "rf.fit(X_tr, y_tr.values.ravel())\n",
    "rf_pred_s = rf.predict(x_sensitivity)\n",
    "pred_sensitivity = pd.Series(index=a_vals, data=rf_pred_s.ravel())\n",
    "pred_sensitivity.plot(figsize=figsize, grid=':');"
   ]
  },
  {
   "cell_type": "markdown",
   "metadata": {},
   "source": [
    "* The curve is not smooth at all\n",
    "* Variations can be very quick"
   ]
  },
  {
   "cell_type": "markdown",
   "metadata": {
    "slideshow": {
     "slide_type": "slide"
    }
   },
   "source": [
    "# Neural Networks and Classification"
   ]
  },
  {
   "cell_type": "markdown",
   "metadata": {
    "slideshow": {
     "slide_type": "subslide"
    }
   },
   "source": [
    "## Loading and Preprocessing Data\n",
    "\n",
    "**As we mentioned, Neural network can be used for classification**\n",
    "\n",
    "We will see a practical example on the weather dataset"
   ]
  },
  {
   "cell_type": "code",
   "execution_count": 15,
   "metadata": {},
   "outputs": [],
   "source": [
    "fname2 = os.path.join('data', 'weather.csv')\n",
    "data2 = pd.read_csv(fname2, sep=',')\n",
    "data2['windy'] = data2['windy'].astype('category').cat.codes\n",
    "data2['play'] = data2['play'].astype('category').cat.codes\n",
    "data2 = pd.get_dummies(data2, columns=['outlook'])\n",
    "\n",
    "out_col2 = 'play'\n",
    "in_cols2 = [c for c in data2.columns if c != out_col2]\n",
    "\n",
    "X2 = data2[in_cols2].astype('float64')\n",
    "y2 = data2[[out_col2]].astype('float64')"
   ]
  },
  {
   "cell_type": "markdown",
   "metadata": {},
   "source": [
    "* We preprocess the data the same way we did for Linear regression\n",
    "* We convert all features to a floating point type\n",
    "* ...Since the tensorflow library expects that"
   ]
  },
  {
   "cell_type": "markdown",
   "metadata": {
    "slideshow": {
     "slide_type": "subslide"
    }
   },
   "source": [
    "## Loading and Preprocessing Data\n",
    "\n",
    "**Train-test spliting and standardization are also as in Linear Regression**"
   ]
  },
  {
   "cell_type": "code",
   "execution_count": 16,
   "metadata": {},
   "outputs": [
    {
     "data": {
      "text/html": [
       "<div>\n",
       "<style scoped>\n",
       "    .dataframe tbody tr th:only-of-type {\n",
       "        vertical-align: middle;\n",
       "    }\n",
       "\n",
       "    .dataframe tbody tr th {\n",
       "        vertical-align: top;\n",
       "    }\n",
       "\n",
       "    .dataframe thead th {\n",
       "        text-align: right;\n",
       "    }\n",
       "</style>\n",
       "<table border=\"1\" class=\"dataframe\">\n",
       "  <thead>\n",
       "    <tr style=\"text-align: right;\">\n",
       "      <th></th>\n",
       "      <th>temperature</th>\n",
       "      <th>humidity</th>\n",
       "      <th>windy</th>\n",
       "      <th>outlook_overcast</th>\n",
       "      <th>outlook_rainy</th>\n",
       "      <th>outlook_sunny</th>\n",
       "    </tr>\n",
       "  </thead>\n",
       "  <tbody>\n",
       "    <tr>\n",
       "      <th>8</th>\n",
       "      <td>-0.610786</td>\n",
       "      <td>-1.133519</td>\n",
       "      <td>0.0</td>\n",
       "      <td>0.0</td>\n",
       "      <td>0.0</td>\n",
       "      <td>1.0</td>\n",
       "    </tr>\n",
       "    <tr>\n",
       "      <th>2</th>\n",
       "      <td>1.871762</td>\n",
       "      <td>0.310965</td>\n",
       "      <td>0.0</td>\n",
       "      <td>1.0</td>\n",
       "      <td>0.0</td>\n",
       "      <td>0.0</td>\n",
       "    </tr>\n",
       "    <tr>\n",
       "      <th>1</th>\n",
       "      <td>1.339788</td>\n",
       "      <td>0.672087</td>\n",
       "      <td>1.0</td>\n",
       "      <td>0.0</td>\n",
       "      <td>0.0</td>\n",
       "      <td>1.0</td>\n",
       "    </tr>\n",
       "    <tr>\n",
       "      <th>13</th>\n",
       "      <td>-0.256136</td>\n",
       "      <td>0.762367</td>\n",
       "      <td>1.0</td>\n",
       "      <td>0.0</td>\n",
       "      <td>1.0</td>\n",
       "      <td>0.0</td>\n",
       "    </tr>\n",
       "    <tr>\n",
       "      <th>4</th>\n",
       "      <td>-0.788110</td>\n",
       "      <td>-0.230716</td>\n",
       "      <td>0.0</td>\n",
       "      <td>0.0</td>\n",
       "      <td>1.0</td>\n",
       "      <td>0.0</td>\n",
       "    </tr>\n",
       "  </tbody>\n",
       "</table>\n",
       "</div>"
      ],
      "text/plain": [
       "    temperature  humidity  windy  outlook_overcast  outlook_rainy   \n",
       "8     -0.610786 -1.133519    0.0               0.0            0.0  \\\n",
       "2      1.871762  0.310965    0.0               1.0            0.0   \n",
       "1      1.339788  0.672087    1.0               0.0            0.0   \n",
       "13    -0.256136  0.762367    1.0               0.0            1.0   \n",
       "4     -0.788110 -0.230716    0.0               0.0            1.0   \n",
       "\n",
       "    outlook_sunny  \n",
       "8             1.0  \n",
       "2             0.0  \n",
       "1             1.0  \n",
       "13            0.0  \n",
       "4             0.0  "
      ]
     },
     "execution_count": 16,
     "metadata": {},
     "output_type": "execute_result"
    }
   ],
   "source": [
    "X_tr2, X_ts2, y_tr2, y_ts2 = train_test_split(X2, y2, test_size=0.34, random_state=42)\n",
    "\n",
    "num_cols2 = ['temperature', 'humidity']\n",
    "x_scaler = StandardScaler()\n",
    "X_tr2[num_cols2] = x_scaler.fit_transform(X_tr2[num_cols2])\n",
    "X_ts2[num_cols2] = x_scaler.transform(X_ts2[num_cols2])\n",
    "X_tr2.head()"
   ]
  },
  {
   "cell_type": "markdown",
   "metadata": {},
   "source": [
    "* There is no need to standardize/normalize 0-1 data\n",
    "* ...Since with NNs we need normalization only to support gradient descent"
   ]
  },
  {
   "cell_type": "markdown",
   "metadata": {
    "slideshow": {
     "slide_type": "subslide"
    }
   },
   "source": [
    "## Building a Model\n",
    "\n",
    "**We need to build the network with a different output layer**"
   ]
  },
  {
   "cell_type": "code",
   "execution_count": 17,
   "metadata": {},
   "outputs": [
    {
     "data": {
      "image/png": "[encoded data removed]",
      "text/plain": [
       "<IPython.core.display.Image object>"
      ]
     },
     "execution_count": 17,
     "metadata": {},
     "output_type": "execute_result"
    }
   ],
   "source": [
    "input_shape2 = (len(in_cols2),)\n",
    "\n",
    "nn2 = keras.Sequential()\n",
    "nn2.add(Dense(16, activation='relu', input_shape=input_shape2))\n",
    "nn2.add(Dense(1, activation='sigmoid'))\n",
    "keras.utils.plot_model(nn2, rankdir='LR', show_layer_activations=True, dpi=150)"
   ]
  },
  {
   "cell_type": "markdown",
   "metadata": {},
   "source": [
    "* If we have two classes, we use a sigmoid\n",
    "* If we have more, we introduce one neuron per class\n",
    "* ...And we pass `'softmax'` for the `activation` parameter"
   ]
  },
  {
   "cell_type": "markdown",
   "metadata": {
    "slideshow": {
     "slide_type": "subslide"
    }
   },
   "source": [
    "## Training a Model\n",
    "\n",
    "**At training time, we need to use a different loss function**\n",
    "\n",
    "* We use `'binary_crossentropy'` with two classes\n",
    "* ...And `'categorical_crossentropy'` with more classes"
   ]
  },
  {
   "cell_type": "code",
   "execution_count": 18,
   "metadata": {},
   "outputs": [
    {
     "data": {
      "image/png": "[encoded data removed]",
      "text/plain": [
       "<Figure size 2000x450 with 1 Axes>"
      ]
     },
     "metadata": {},
     "output_type": "display_data"
    }
   ],
   "source": [
    "nn2.compile(optimizer='adam', loss='binary_crossentropy')\n",
    "history2 = nn2.fit(X_tr2, y_tr2, batch_size=8, epochs=3000, verbose=0)\n",
    "loss_history2 = pd.Series(name='loss', data=history2.history['loss'])\n",
    "loss_history2.plot(figsize=figsize, grid=':');"
   ]
  },
  {
   "cell_type": "markdown",
   "metadata": {},
   "source": [
    "* In our case, we need a large number of epochs since our dataset is tiny"
   ]
  },
  {
   "cell_type": "markdown",
   "metadata": {
    "slideshow": {
     "slide_type": "subslide"
    }
   },
   "source": [
    "## Evaluation\n",
    "\n",
    "**Predictions are assumed to be probabilistic by default**"
   ]
  },
  {
   "cell_type": "code",
   "execution_count": 19,
   "metadata": {},
   "outputs": [
    {
     "name": "stdout",
     "output_type": "stream",
     "text": [
      "[[9.99998748e-01]\n",
      " [9.99417305e-01]\n",
      " [1.21798876e-04]]\n"
     ]
    }
   ],
   "source": [
    "y_pred_p_tr2 = nn2.predict(X_tr2, verbose=0)\n",
    "y_pred_p_ts2 = nn2.predict(X_ts2, verbose=0)\n",
    "print(y_pred_p_tr2[:3])"
   ]
  },
  {
   "cell_type": "markdown",
   "metadata": {},
   "source": [
    "...Se we need to use rouding to get actual classes:"
   ]
  },
  {
   "cell_type": "code",
   "execution_count": 20,
   "metadata": {},
   "outputs": [
    {
     "name": "stdout",
     "output_type": "stream",
     "text": [
      "[[1.]\n",
      " [1.]\n",
      " [0.]]\n"
     ]
    }
   ],
   "source": [
    "y_pred_tr2 = np.round(y_pred_p_tr2)\n",
    "y_pred_ts2 = np.round(y_pred_p_ts2)\n",
    "print(y_pred_tr2[:3])"
   ]
  },
  {
   "cell_type": "markdown",
   "metadata": {
    "slideshow": {
     "slide_type": "subslide"
    }
   },
   "source": [
    "## Evaluation\n",
    "\n",
    "**The, we can evaluate the NN classifier as usual**"
   ]
  },
  {
   "cell_type": "code",
   "execution_count": 21,
   "metadata": {},
   "outputs": [
    {
     "name": "stdout",
     "output_type": "stream",
     "text": [
      "Accuracy: 1.000 (training), 0.600 (test)\n"
     ]
    },
    {
     "data": {
      "image/png": "[encoded data removed]",
      "text/plain": [
       "<Figure size 640x480 with 2 Axes>"
      ]
     },
     "metadata": {},
     "output_type": "display_data"
    }
   ],
   "source": [
    "from sklearn.metrics import ConfusionMatrixDisplay, accuracy_score\n",
    "print(f'Accuracy: {accuracy_score(y_tr2, y_pred_tr2):.3f} (training), {accuracy_score(y_ts2, y_pred_ts2):.3f} (test)')\n",
    "ConfusionMatrixDisplay.from_predictions(y_tr2, y_pred_tr2, display_labels=['not play', 'play'], cmap='Blues');"
   ]
  },
  {
   "cell_type": "markdown",
   "metadata": {
    "slideshow": {
     "slide_type": "subslide"
    }
   },
   "source": [
    "## Some Comments\n",
    "\n",
    "**Some observations**\n",
    "\n",
    "* Our NN results are slighly _worse_ than those of RFs\n",
    "* Training takes longer than tree based models\n",
    "* ...And NN are _very difficult_ to interpret\n",
    "\n",
    "**So, what makes NNs special?**\n",
    "\n",
    "Mostly, it's three things:\n",
    "\n",
    "* Their ability to deal with raw input\n",
    "* Their (relative) robustness w.r.t. overfitting\n",
    "* Their (relative) smoothness and ability to interpolate data\n",
    "* Their flexibility\n",
    "\n",
    "**We will explore these aspects in deeper detail in the next notebook**"
   ]
  }
 ],
 "metadata": {
  "celltoolbar": "Slideshow",
  "kernelspec": {
   "display_name": "Python 3 (ipykernel)",
   "language": "python",
   "name": "python3"
  },
  "language_info": {
   "codemirror_mode": {
    "name": "ipython",
    "version": 3
   },
   "file_extension": ".py",
   "mimetype": "text/x-python",
   "name": "python",
   "nbconvert_exporter": "python",
   "pygments_lexer": "ipython3",
   "version": "3.8.10"
  },
  "rise": {
   "center": false,
   "enable_chalkboard": true,
   "transition": "fade"
  }
 },
 "nbformat": 4,
 "nbformat_minor": 4
}
