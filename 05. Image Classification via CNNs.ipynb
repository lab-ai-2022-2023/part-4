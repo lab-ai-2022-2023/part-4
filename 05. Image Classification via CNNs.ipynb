{
 "cells": [
  {
   "cell_type": "code",
   "execution_count": 1,
   "metadata": {
    "slideshow": {
     "slide_type": "skip"
    }
   },
   "outputs": [
    {
     "name": "stderr",
     "output_type": "stream",
     "text": [
      "2023-05-23 10:27:41.260147: I tensorflow/tsl/cuda/cudart_stub.cc:28] Could not find cuda drivers on your machine, GPU will not be used.\n",
      "2023-05-23 10:27:41.302481: I tensorflow/tsl/cuda/cudart_stub.cc:28] Could not find cuda drivers on your machine, GPU will not be used.\n",
      "2023-05-23 10:27:41.303002: I tensorflow/core/platform/cpu_feature_guard.cc:182] This TensorFlow binary is optimized to use available CPU instructions in performance-critical operations.\n",
      "To enable the following instructions: AVX2 FMA, in other operations, rebuild TensorFlow with the appropriate compiler flags.\n",
      "2023-05-23 10:27:41.952855: W tensorflow/compiler/tf2tensorrt/utils/py_utils.cc:38] TF-TRT Warning: Could not find TensorRT\n"
     ]
    }
   ],
   "source": [
    "# ======================================================================================\n",
    "# Notebook setup\n",
    "# \n",
    "# Run this cell before all others to make sure that the Jupyter notebook works properly\n",
    "# ======================================================================================\n",
    "\n",
    "# Automatically reload all imported modules\n",
    "%load_ext autoreload\n",
    "%autoreload 2\n",
    "\n",
    "import pandas as pd\n",
    "import numpy as np\n",
    "from matplotlib import pyplot as plt\n",
    "\n",
    "import numpy as np\n",
    "import pandas as pd\n",
    "from sklearn.model_selection import train_test_split\n",
    "from sklearn.metrics import accuracy_score\n",
    "from tensorflow import keras\n",
    "from keras.layers import Dense, Dropout\n",
    "\n",
    "figsize = (20, 4.5)"
   ]
  },
  {
   "cell_type": "markdown",
   "metadata": {
    "slideshow": {
     "slide_type": "slide"
    }
   },
   "source": [
    "# Convolutional Neural Networks"
   ]
  },
  {
   "cell_type": "markdown",
   "metadata": {
    "slideshow": {
     "slide_type": "subslide"
    }
   },
   "source": [
    "## DL as Representation Learning\n",
    "\n",
    "**A nice perspective on DNs is to view them as \"space tranformation machines\"**\n",
    "\n",
    "<center>\n",
    "<img src=\"assets/ann.png\" width=60%/>\n",
    "</center>\n",
    "\n",
    "* The input is encoded in its natural space\n",
    "* The first layer morphs the input into a transformed space and so on\n",
    "* The last layer applies linear/logistic regression to a learned representation"
   ]
  },
  {
   "cell_type": "markdown",
   "metadata": {
    "slideshow": {
     "slide_type": "subslide"
    }
   },
   "source": [
    "## DL as Representation Learning\n",
    "\n",
    "**From this perspective, DNs can act as automatic feature extractor**\n",
    "\n",
    "This is _the_ reason why they work so well on certain domains\n",
    "\n",
    "* E.g. images, audio, natural language processing\n",
    "* ...Meaning domains with complex or perceptual representations\n",
    "\n",
    "**Consider a digit recognition application**\n",
    "\n",
    "With classical ML, one would need to:\n",
    "\n",
    "* Design high quality features (which requires a lot of domain expertise)\n",
    "* ...And then train a model\n",
    "\n",
    "With DL, the first step can be (partially skipped)\n",
    "\n",
    "**This is a _huge_ advantage!**"
   ]
  },
  {
   "cell_type": "markdown",
   "metadata": {
    "slideshow": {
     "slide_type": "subslide"
    }
   },
   "source": [
    "## Image Data\n",
    "\n",
    "**We will try to use Deep Learning on image data**\n",
    "\n",
    "In particular we will use the [MNIST Digit Recognition Dataset](http://yann.lecun.com/exdb/mnist/)\n",
    "\n",
    "* Code to download MNIST is available directy in Keras"
   ]
  },
  {
   "cell_type": "code",
   "execution_count": 2,
   "metadata": {},
   "outputs": [
    {
     "name": "stdout",
     "output_type": "stream",
     "text": [
      "Downloading data from https://storage.googleapis.com/tensorflow/tf-keras-datasets/mnist.npz\n",
      "11490434/11490434 [==============================] - 1s 0us/step\n"
     ]
    }
   ],
   "source": [
    "from keras.datasets import mnist\n",
    "# load the data, shuffled and split between train and test sets\n",
    "(x_train, y_train), (x_test, y_test) = mnist.load_data()"
   ]
  },
  {
   "cell_type": "markdown",
   "metadata": {},
   "source": [
    "The MNIST data is now stored in pairs of numpy arrays.\n",
    "\n",
    "* The `x_train` and `x_test` arrays contain the greyscale value of each pixel\n",
    "* The `y_train` and `y_test` arrays contain the class (digit) as an integer"
   ]
  },
  {
   "cell_type": "markdown",
   "metadata": {
    "slideshow": {
     "slide_type": "subslide"
    }
   },
   "source": [
    "## Image Data\n",
    "\n",
    "**Let's inspect the output**"
   ]
  },
  {
   "cell_type": "code",
   "execution_count": 3,
   "metadata": {},
   "outputs": [
    {
     "name": "stdout",
     "output_type": "stream",
     "text": [
      "Shape of y_train: (60000,)\n",
      "Shape of y_test: (10000,)\n"
     ]
    }
   ],
   "source": [
    "print(f'Shape of y_train: {y_train.shape}')\n",
    "print(f'Shape of y_test: {y_test.shape}')\n",
    "n_tr = y_train.shape[0]\n",
    "n_ts = y_test.shape[0]"
   ]
  },
  {
   "cell_type": "markdown",
   "metadata": {},
   "source": [
    "* There are 60,000 training examples\n",
    "* ...And 10,000 test examples\n",
    "\n",
    "**The target arrays are one-dimensional**\n",
    "\n",
    "Let's check a sample:"
   ]
  },
  {
   "cell_type": "code",
   "execution_count": 4,
   "metadata": {},
   "outputs": [
    {
     "data": {
      "text/plain": [
       "array([5, 0, 4, ..., 5, 6, 8], dtype=uint8)"
      ]
     },
     "execution_count": 4,
     "metadata": {},
     "output_type": "execute_result"
    }
   ],
   "source": [
    "y_train"
   ]
  },
  {
   "cell_type": "markdown",
   "metadata": {
    "slideshow": {
     "slide_type": "subslide"
    }
   },
   "source": [
    "## Image Data\n",
    "\n",
    "**Let's inspect the input**"
   ]
  },
  {
   "cell_type": "code",
   "execution_count": 5,
   "metadata": {},
   "outputs": [
    {
     "name": "stdout",
     "output_type": "stream",
     "text": [
      "Shape of x_train: (60000, 28, 28)\n",
      "Shape of x_test: (10000, 28, 28)\n"
     ]
    }
   ],
   "source": [
    "print(f'Shape of x_train: {x_train.shape}')\n",
    "print(f'Shape of x_test: {x_test.shape}')\n",
    "x_h = x_train.shape[1]\n",
    "x_w = x_train.shape[2]"
   ]
  },
  {
   "cell_type": "markdown",
   "metadata": {},
   "source": [
    "* The dataset input consists of 28x28 matrices"
   ]
  },
  {
   "cell_type": "code",
   "execution_count": 6,
   "metadata": {},
   "outputs": [
    {
     "name": "stdout",
     "output_type": "stream",
     "text": [
      "Minimum: 0 (train), 0 (test)\n",
      "Maximum: 255 (train), 255 (test)\n"
     ]
    }
   ],
   "source": [
    "print(f'Minimum: {x_train.min()} (train), {x_train.min()} (test)')\n",
    "print(f'Maximum: {x_train.max()} (train), {x_train.max()} (test)')"
   ]
  },
  {
   "cell_type": "markdown",
   "metadata": {},
   "source": [
    "* The content of the matrix cells ranges from 0 to 255\n",
    "* ...And it represents 8 bit brightness values"
   ]
  },
  {
   "cell_type": "markdown",
   "metadata": {
    "slideshow": {
     "slide_type": "subslide"
    }
   },
   "source": [
    "## Image Data\n",
    "\n",
    "**Let's see some sample images**"
   ]
  },
  {
   "cell_type": "code",
   "execution_count": 7,
   "metadata": {},
   "outputs": [
    {
     "data": {
      "image/png": "[encoded data removed]",
      "text/plain": [
       "<Figure size 2000x450 with 12 Axes>"
      ]
     },
     "metadata": {},
     "output_type": "display_data"
    }
   ],
   "source": [
    "m, n = 2, 6\n",
    "plt.figure(figsize=figsize)\n",
    "for i in range(m):\n",
    "    for j in range(n):\n",
    "        plt.subplot(m, n, i*n + j + 1)\n",
    "        plt.imshow(x_train[i*n + j], cmap='Greys')\n",
    "plt.show()"
   ]
  },
  {
   "cell_type": "markdown",
   "metadata": {
    "slideshow": {
     "slide_type": "subslide"
    }
   },
   "source": [
    "## Preprocessing\n",
    "\n",
    "**Before we can start training we need to do some preprocessing**\n",
    "\n",
    "We will apply a _min-max encoding to the input_\n",
    "\n",
    "* ...Since minima and maxima are clearly define"
   ]
  },
  {
   "cell_type": "code",
   "execution_count": 8,
   "metadata": {},
   "outputs": [],
   "source": [
    "x_train_norm = x_train / 255.0\n",
    "x_test_norm = x_test / 255.0"
   ]
  },
  {
   "cell_type": "markdown",
   "metadata": {},
   "source": [
    "We will adopt a _one-hot encoding for the output_\n",
    "\n",
    "* ...Since we will need to build a network with one neuron per class\n",
    "* Keras provides a utility function for the conversion"
   ]
  },
  {
   "cell_type": "code",
   "execution_count": 9,
   "metadata": {},
   "outputs": [
    {
     "data": {
      "text/plain": [
       "array([[0., 0., 0., 0., 0., 1., 0., 0., 0., 0.],\n",
       "       [1., 0., 0., 0., 0., 0., 0., 0., 0., 0.]], dtype=float32)"
      ]
     },
     "execution_count": 9,
     "metadata": {},
     "output_type": "execute_result"
    }
   ],
   "source": [
    "y_train_cat = keras.utils.to_categorical(y_train)\n",
    "y_test_cat = keras.utils.to_categorical(y_test)\n",
    "y_train_cat[:2, :]"
   ]
  },
  {
   "cell_type": "markdown",
   "metadata": {
    "slideshow": {
     "slide_type": "subslide"
    }
   },
   "source": [
    "## Adding Channel Information\n",
    "\n",
    "**When working with image data, one extra step is needed**\n",
    "\n",
    "...Since images are not necessarily greyscale!\n",
    "\n",
    "* Color images are often represented using the RGB color space\n",
    "* ...I.e. each pixel has an associated value for the red, green, and blue hue.\n",
    "\n",
    "For this reason, an image is best described by a _tensor_ not a matrix\n",
    "\n",
    "* An $i, j$ pair identifies a pixel\n",
    "* ...And a third dimension specifies the channel (RGB)\n",
    "\n",
    "**Even if we have a single channel, is best to make Keras aware of that**"
   ]
  },
  {
   "cell_type": "code",
   "execution_count": 10,
   "metadata": {},
   "outputs": [
    {
     "name": "stdout",
     "output_type": "stream",
     "text": [
      "New shape of the training set: (60000, 28, 28, 1)\n"
     ]
    }
   ],
   "source": [
    "x_train_c = x_train_norm.reshape(-1, x_h, x_w, 1)\n",
    "x_test_c = x_test_norm.reshape(-1, x_h, x_w, 1)\n",
    "input_shape = (x_h, x_w, 1)\n",
    "output_shape = (10,)\n",
    "print(f'New shape of the training set: {x_train_c.shape}')"
   ]
  },
  {
   "cell_type": "markdown",
   "metadata": {
    "slideshow": {
     "slide_type": "subslide"
    }
   },
   "source": [
    "## Training a Baseline Model\n",
    "\n",
    "**As a baseline, we will build an MLP model**"
   ]
  },
  {
   "cell_type": "code",
   "execution_count": 11,
   "metadata": {},
   "outputs": [],
   "source": [
    "def build_mlp(input_shape, output_shape, hidden, rate=0.05):\n",
    "    mdl = keras.Sequential()\n",
    "    mdl.add(keras.Input(shape=input_shape))\n",
    "    mdl.add(keras.layers.Flatten())\n",
    "    for k, h in enumerate(hidden):\n",
    "        mdl.add(Dense(h, activation='relu'))\n",
    "        mdl.add(keras.layers.Dropout(rate))\n",
    "    mdl.add(Dense(output_shape[0], activation='softmax'))\n",
    "    return mdl"
   ]
  },
  {
   "cell_type": "markdown",
   "metadata": {},
   "source": [
    "**A classical MLP is not designed to handle images**\n",
    "\n",
    "* ...For this reason with start with a special `Flatten` layer\n",
    "* ...Which discards all tensor dimensions (except the number of samples)\n",
    "\n",
    "**We also need to build one output neuron per class**\n",
    "\n",
    "* ...And we need to use a softmax activation function"
   ]
  },
  {
   "cell_type": "markdown",
   "metadata": {
    "slideshow": {
     "slide_type": "subslide"
    }
   },
   "source": [
    "## Training a Baseline Model\n",
    "\n",
    "**We can now train a 2-layer network as a baseline**"
   ]
  },
  {
   "cell_type": "code",
   "execution_count": 12,
   "metadata": {
    "scrolled": true
   },
   "outputs": [
    {
     "name": "stdout",
     "output_type": "stream",
     "text": [
      "Epoch 1/30\n",
      "1875/1875 [==============================] - 2s 776us/step - loss: 0.5817\n",
      "Epoch 2/30\n",
      "1875/1875 [==============================] - 1s 770us/step - loss: 0.3378\n",
      "Epoch 3/30\n",
      "1875/1875 [==============================] - 1s 757us/step - loss: 0.2952\n",
      "Epoch 4/30\n",
      "1875/1875 [==============================] - 1s 764us/step - loss: 0.2699\n",
      "Epoch 5/30\n",
      "1875/1875 [==============================] - 1s 758us/step - loss: 0.2539\n",
      "Epoch 6/30\n",
      "1875/1875 [==============================] - 1s 766us/step - loss: 0.2422\n",
      "Epoch 7/30\n",
      "1875/1875 [==============================] - 1s 764us/step - loss: 0.2321\n",
      "Epoch 8/30\n",
      "1875/1875 [==============================] - 2s 835us/step - loss: 0.2275\n",
      "Epoch 9/30\n",
      "1875/1875 [==============================] - 1s 767us/step - loss: 0.2195\n",
      "Epoch 10/30\n",
      "1875/1875 [==============================] - 1s 767us/step - loss: 0.2139\n",
      "Epoch 11/30\n",
      "1875/1875 [==============================] - 1s 765us/step - loss: 0.2101\n",
      "Epoch 12/30\n",
      "1875/1875 [==============================] - 1s 770us/step - loss: 0.2050\n",
      "Epoch 13/30\n",
      "1875/1875 [==============================] - 1s 765us/step - loss: 0.2040\n",
      "Epoch 14/30\n",
      "1875/1875 [==============================] - 1s 753us/step - loss: 0.1982\n",
      "Epoch 15/30\n",
      "1875/1875 [==============================] - 1s 777us/step - loss: 0.1971\n",
      "Epoch 16/30\n",
      "1875/1875 [==============================] - 1s 798us/step - loss: 0.1946\n",
      "Epoch 17/30\n",
      "1875/1875 [==============================] - 2s 822us/step - loss: 0.1913\n",
      "Epoch 18/30\n",
      "1875/1875 [==============================] - 1s 780us/step - loss: 0.1937\n",
      "Epoch 19/30\n",
      "1875/1875 [==============================] - 1s 775us/step - loss: 0.1916\n",
      "Epoch 20/30\n",
      "1875/1875 [==============================] - 1s 796us/step - loss: 0.1862\n",
      "Epoch 21/30\n",
      "1875/1875 [==============================] - 1s 795us/step - loss: 0.1873\n",
      "Epoch 22/30\n",
      "1875/1875 [==============================] - 1s 776us/step - loss: 0.1820\n",
      "Epoch 23/30\n",
      "1875/1875 [==============================] - 2s 810us/step - loss: 0.1818\n",
      "Epoch 24/30\n",
      "1875/1875 [==============================] - 2s 806us/step - loss: 0.1806\n",
      "Epoch 25/30\n",
      "1875/1875 [==============================] - 2s 887us/step - loss: 0.1786\n",
      "Epoch 26/30\n",
      "1875/1875 [==============================] - 1s 778us/step - loss: 0.1801\n",
      "Epoch 27/30\n",
      "1875/1875 [==============================] - 1s 782us/step - loss: 0.1790\n",
      "Epoch 28/30\n",
      "1875/1875 [==============================] - 1s 763us/step - loss: 0.1747\n",
      "Epoch 29/30\n",
      "1875/1875 [==============================] - 1s 759us/step - loss: 0.1728\n",
      "Epoch 30/30\n",
      "1875/1875 [==============================] - 1s 768us/step - loss: 0.1740\n"
     ]
    }
   ],
   "source": [
    "def train_nn(nn, X_tr, y_tr, batch_size, epochs, verbose=1):\n",
    "    nn.compile(loss='categorical_crossentropy', optimizer='adam')\n",
    "    history = nn.fit(X_tr, y_tr, batch_size=batch_size, epochs=epochs, verbose=verbose)\n",
    "    cols = [k for k in history.history.keys()]\n",
    "    vals = np.array([history.history[c] for c in cols]).T\n",
    "    return pd.DataFrame(data=vals, columns=cols)\n",
    "\n",
    "nn1 = build_mlp(input_shape, output_shape, hidden=[16, 16])\n",
    "history = train_nn(nn1, x_train_c, y_train_cat, batch_size=32, epochs=30, verbose=1)"
   ]
  },
  {
   "cell_type": "markdown",
   "metadata": {},
   "source": [
    "Training takes considerably longer then before\n",
    "\n",
    "* ...Since we have more data and with higher dimensionality\n",
    "\n",
    "Since we have more data, we need fewer epochs\n",
    "\n",
    "* ...Due our choice of using a small batch size"
   ]
  },
  {
   "cell_type": "markdown",
   "metadata": {
    "slideshow": {
     "slide_type": "subslide"
    }
   },
   "source": [
    "## Training a Baseline Model\n",
    "\n",
    "**Let's inspect the training curve**"
   ]
  },
  {
   "cell_type": "code",
   "execution_count": 13,
   "metadata": {},
   "outputs": [
    {
     "data": {
      "image/png": "[encoded data removed]",
      "text/plain": [
       "<Figure size 2000x450 with 1 Axes>"
      ]
     },
     "metadata": {},
     "output_type": "display_data"
    }
   ],
   "source": [
    "history.plot(figsize=figsize, grid=':');"
   ]
  },
  {
   "cell_type": "markdown",
   "metadata": {},
   "source": [
    "There's still something to go before convergence, but we'll stop here"
   ]
  },
  {
   "cell_type": "markdown",
   "metadata": {
    "slideshow": {
     "slide_type": "subslide"
    }
   },
   "source": [
    "## Evaluation\n",
    "\n",
    "**Now we can compute the model accuracy**"
   ]
  },
  {
   "cell_type": "code",
   "execution_count": 14,
   "metadata": {},
   "outputs": [
    {
     "name": "stdout",
     "output_type": "stream",
     "text": [
      "2-layer network accuracy: 0.968 (train), 0.953 (test)\n"
     ]
    }
   ],
   "source": [
    "nn1_p_tr = nn1.predict(x_train_c, verbose=0).argmax(axis=1)\n",
    "nn1_p_ts = nn1.predict(x_test_c, verbose=0).argmax(axis=1)\n",
    "\n",
    "nn1_acc_tr = accuracy_score(y_train, nn1_p_tr)\n",
    "nn1_acc_ts = accuracy_score(y_test, nn1_p_ts)\n",
    "\n",
    "print(f'2-layer network accuracy: {nn1_acc_tr:.3f} (train), {nn1_acc_ts:.3f} (test)')"
   ]
  },
  {
   "cell_type": "markdown",
   "metadata": {},
   "source": [
    "We are doing already pretty well!\n",
    "\n",
    "* What can we do to improve the results?\n",
    "* Beyond \"stacking more layers\" the answer is not clear"
   ]
  },
  {
   "cell_type": "markdown",
   "metadata": {
    "slideshow": {
     "slide_type": "subslide"
    }
   },
   "source": [
    "## Exploiting Structural Information\n",
    "\n",
    "**DNs are very flexible learning models**\n",
    "\n",
    "* ...Since we can choose both how many layer to use\n",
    "* ...And how big they should be\n",
    "\n",
    "**However, it's difficult to develop an intuition of which options work**\n",
    "\n",
    "* This is due to the poor interpretability of DNs\n",
    "* ...To the point that a [fully fledged research field](https://en.wikipedia.org/wiki/Automated_machine_learning) focuses on automatic tuning\n",
    "\n",
    "**There is one type of choice that is intuitive and has a big impact**\n",
    "\n",
    "...This concerns the idea of exploiting structural information\n",
    "\n",
    "* For example, nearby pixels in an image may be semantically linked\n",
    "* ...And the same goes for nearby points in time\n",
    "* ...Or nearby words in a sentence"
   ]
  },
  {
   "cell_type": "markdown",
   "metadata": {
    "slideshow": {
     "slide_type": "subslide"
    }
   },
   "source": [
    "## Convolutional Layers\n",
    "\n",
    "**This idea is at the basis of _convolutional layers_**\n",
    "\n",
    "A 2D convolution layer...\n",
    "\n",
    "* Starts from an input tensor with shape (m, n, c)\n",
    "* ...And slides a linear $n_f, m_f$ filter (or kernel) on top of the image\n",
    "* ...With a certain step size (stride)\n",
    "\n",
    "<center>\n",
    "<img src=\"assets/pooling.png\" width=50%/>\n",
    "</center>\n",
    "\n",
    "* You can think of that as moving an $n_f, m_f$ mask across an image\n",
    "* The figure shows a 2x2 convolution with stride 2"
   ]
  },
  {
   "cell_type": "markdown",
   "metadata": {
    "slideshow": {
     "slide_type": "subslide"
    }
   },
   "source": [
    "## Convolutional Layers\n",
    "\n",
    "**Each application of the kernel...**\n",
    "\n",
    "* Compute a dot product (involving all channels) to obtain a scalar\n",
    "* ...The optionally applies an activation function\n",
    "\n",
    "Here we see the effect along 1 dimension:\n",
    "\n",
    "<center>\n",
    "<img src=\"assets/convstack0.png\" width=60%/>\n",
    "</center>\n",
    "\n",
    "**Therefore, by applying a $(m_f, n_f)$ 2D convolution to an $(m, n, c)$ tensor**\n",
    "\n",
    "...We get a $(m-m_f+1, n-n_f+1)$ output tensor\n",
    "\n",
    "* Intuitively, starting from a multi-channel image\n",
    "* ...We get a slightly smaller single-channel image"
   ]
  },
  {
   "cell_type": "markdown",
   "metadata": {
    "slideshow": {
     "slide_type": "subslide"
    }
   },
   "source": [
    "## Convolutional Layers\n",
    "\n",
    "**If we don't want to reduce the image size**\n",
    "\n",
    "* ...We can include some padding\n",
    "\n",
    "**If we want to undersample the image**\n",
    "\n",
    "* ...We can use a non unary stride\n",
    "\n",
    "**If we use multiple filters for the same level**\n",
    "\n",
    "* ...We obtain multiple output \"images\"\n",
    "\n",
    "**If we stack multiple convolutional layers**\n",
    "\n",
    "* ...Later layers will be able to access information from a larger _receptive field_\n",
    "\n",
    "<center>\n",
    "<img src=\"assets/convstack1.png\" width=50%/>\n",
    "</center>"
   ]
  },
  {
   "cell_type": "markdown",
   "metadata": {
    "slideshow": {
     "slide_type": "subslide"
    }
   },
   "source": [
    "## Convolutional Layers\n",
    "\n",
    "**Convolutional layers have some interesting properties**\n",
    "\n",
    "Their weights are associated _only to the filter_\n",
    "\n",
    "* So, if we have $c$ channels and a $(m_f, n_f)$ filter\n",
    "* ...We have $m_f n_f c$ weights _regardless of the input size_\n",
    "\n",
    "This allows a _huge_ reduction in terms of number of weights\n",
    "\n",
    "**The price to pay is a _higher bias_**\n",
    "\n",
    "...But the trick is that it's _a bias that makes sense_!\n",
    "\n",
    "* Intuitively, filters will learn to recognize _local features_\n",
    "* Earlier convolutions will focus on fine-grain details\n",
    "* ...While later convolution will aggregate them\n",
    "\n",
    "**This property allows CNN to work very well on image data** "
   ]
  },
  {
   "cell_type": "markdown",
   "metadata": {
    "slideshow": {
     "slide_type": "subslide"
    }
   },
   "source": [
    "## CNNs in Keras\n",
    "\n",
    "**Convolutional layer are available in Keras as `Conv2D` objects**"
   ]
  },
  {
   "cell_type": "code",
   "execution_count": 15,
   "metadata": {},
   "outputs": [],
   "source": [
    "from keras.layers import Conv2D\n",
    "\n",
    "def build_cnn(input_shape, output_shape, hidden, convs, rate=0.05):\n",
    "    mdl = keras.Sequential()\n",
    "    mdl.add(keras.Input(shape=input_shape))\n",
    "    for nf in convs:\n",
    "        mdl.add(Conv2D(nf, kernel_size=(3,3), activation='relu'))\n",
    "    mdl.add(keras.layers.Flatten())\n",
    "    for h in hidden:\n",
    "        mdl.add(Dense(h, activation='relu'))\n",
    "        mdl.add(keras.layers.Dropout(rate))\n",
    "    mdl.add(Dense(output_shape[0], activation='softmax'))\n",
    "    return mdl"
   ]
  },
  {
   "cell_type": "markdown",
   "metadata": {},
   "source": [
    "* The first parameter is the number of filters\n",
    "* Then we have the filter (kernel) size and the activation function"
   ]
  },
  {
   "cell_type": "markdown",
   "metadata": {
    "slideshow": {
     "slide_type": "subslide"
    }
   },
   "source": [
    "## Training a CNN\n",
    "\n",
    "**CNNs can be trained as usual, but the process is much slower**\n",
    "\n",
    "...Since even with few weights, we still need to do a lot of computations\n",
    "\n",
    "* Using GPUs can considerably accelerate this step"
   ]
  },
  {
   "cell_type": "code",
   "execution_count": 16,
   "metadata": {
    "scrolled": true
   },
   "outputs": [
    {
     "name": "stdout",
     "output_type": "stream",
     "text": [
      "Epoch 1/30\n",
      "1875/1875 [==============================] - 6s 3ms/step - loss: 0.2865\n",
      "Epoch 2/30\n",
      "1875/1875 [==============================] - 6s 3ms/step - loss: 0.1106\n",
      "Epoch 3/30\n",
      "1875/1875 [==============================] - 6s 3ms/step - loss: 0.0858\n",
      "Epoch 4/30\n",
      "1875/1875 [==============================] - 6s 3ms/step - loss: 0.0692\n",
      "Epoch 5/30\n",
      "1875/1875 [==============================] - 6s 3ms/step - loss: 0.0579\n",
      "Epoch 6/30\n",
      "1875/1875 [==============================] - 5s 3ms/step - loss: 0.0489\n",
      "Epoch 7/30\n",
      "1875/1875 [==============================] - 5s 3ms/step - loss: 0.0421\n",
      "Epoch 8/30\n",
      "1875/1875 [==============================] - 5s 3ms/step - loss: 0.0355\n",
      "Epoch 9/30\n",
      "1875/1875 [==============================] - 5s 3ms/step - loss: 0.0328\n",
      "Epoch 10/30\n",
      "1875/1875 [==============================] - 5s 3ms/step - loss: 0.0284\n",
      "Epoch 11/30\n",
      "1875/1875 [==============================] - 5s 3ms/step - loss: 0.0276\n",
      "Epoch 12/30\n",
      "1875/1875 [==============================] - 6s 3ms/step - loss: 0.0250\n",
      "Epoch 13/30\n",
      "1875/1875 [==============================] - 6s 3ms/step - loss: 0.0222\n",
      "Epoch 14/30\n",
      "1875/1875 [==============================] - 6s 3ms/step - loss: 0.0214\n",
      "Epoch 15/30\n",
      "1875/1875 [==============================] - 6s 3ms/step - loss: 0.0198\n",
      "Epoch 16/30\n",
      "1875/1875 [==============================] - 6s 3ms/step - loss: 0.0185\n",
      "Epoch 17/30\n",
      "1875/1875 [==============================] - 6s 3ms/step - loss: 0.0186\n",
      "Epoch 18/30\n",
      "1875/1875 [==============================] - 6s 3ms/step - loss: 0.0171\n",
      "Epoch 19/30\n",
      "1875/1875 [==============================] - 6s 3ms/step - loss: 0.0164\n",
      "Epoch 20/30\n",
      "1875/1875 [==============================] - 6s 3ms/step - loss: 0.0167\n",
      "Epoch 21/30\n",
      "1875/1875 [==============================] - 6s 3ms/step - loss: 0.0140\n",
      "Epoch 22/30\n",
      "1875/1875 [==============================] - 6s 3ms/step - loss: 0.0145\n",
      "Epoch 23/30\n",
      "1875/1875 [==============================] - 6s 3ms/step - loss: 0.0143\n",
      "Epoch 24/30\n",
      "1875/1875 [==============================] - 6s 3ms/step - loss: 0.0140\n",
      "Epoch 25/30\n",
      "1875/1875 [==============================] - 5s 3ms/step - loss: 0.0143\n",
      "Epoch 26/30\n",
      "1875/1875 [==============================] - 6s 3ms/step - loss: 0.0127\n",
      "Epoch 27/30\n",
      "1875/1875 [==============================] - 6s 3ms/step - loss: 0.0135\n",
      "Epoch 28/30\n",
      "1875/1875 [==============================] - 6s 3ms/step - loss: 0.0116\n",
      "Epoch 29/30\n",
      "1875/1875 [==============================] - 7s 4ms/step - loss: 0.0109\n",
      "Epoch 30/30\n",
      "1875/1875 [==============================] - 6s 3ms/step - loss: 0.0127\n"
     ]
    }
   ],
   "source": [
    "cnn1 = build_cnn(input_shape, output_shape, hidden=[16], convs=[16])\n",
    "history2 = train_nn(cnn1, x_train_c, y_train_cat, batch_size=32, epochs=30, verbose=1)"
   ]
  },
  {
   "cell_type": "markdown",
   "metadata": {
    "slideshow": {
     "slide_type": "subslide"
    }
   },
   "source": [
    "## Training a CNN\n",
    "\n",
    "**Let's check the training curve**"
   ]
  },
  {
   "cell_type": "code",
   "execution_count": 17,
   "metadata": {},
   "outputs": [
    {
     "data": {
      "image/png": "[encoded data removed]",
      "text/plain": [
       "<Figure size 2000x450 with 1 Axes>"
      ]
     },
     "metadata": {},
     "output_type": "display_data"
    }
   ],
   "source": [
    "history2.plot(figsize=figsize, grid=':');"
   ]
  },
  {
   "cell_type": "markdown",
   "metadata": {},
   "source": [
    "Again, there is still some way to go, but we'll stop here for a fair comparison"
   ]
  },
  {
   "cell_type": "markdown",
   "metadata": {
    "slideshow": {
     "slide_type": "subslide"
    }
   },
   "source": [
    "## Quality Evaluation"
   ]
  },
  {
   "cell_type": "code",
   "execution_count": 19,
   "metadata": {},
   "outputs": [
    {
     "name": "stdout",
     "output_type": "stream",
     "text": [
      "Shallow network accuracy: 0.968 (train), 0.953 (test)\n",
      "Convolutional network accuracy: 0.999 (train), 0.981 (test)\n"
     ]
    }
   ],
   "source": [
    "cnn1_p_tr = cnn1.predict(x_train_c, verbose=0).argmax(axis=1)\n",
    "cnn1_p_ts = cnn1.predict(x_test_c, verbose=0).argmax(axis=1)\n",
    "\n",
    "cnn1_acc_tr = accuracy_score(y_train, cnn1_p_tr)\n",
    "cnn1_acc_ts = accuracy_score(y_test, cnn1_p_ts)\n",
    "\n",
    "print(f'Shallow network accuracy: {nn1_acc_tr:.3f} (train), {nn1_acc_ts:.3f} (test)')\n",
    "print(f'Convolutional network accuracy: {cnn1_acc_tr:.3f} (train), {cnn1_acc_ts:.3f} (test)')"
   ]
  },
  {
   "cell_type": "markdown",
   "metadata": {},
   "source": [
    "The results are much better!\n",
    "\n",
    "* Even if the CNN has much fewer weights than the fully connected one\n",
    "* ...And the same number of hidden layers\n",
    "\n",
    "**Exploiting structural information is a powerful idea in DL**\n",
    "\n",
    "* Rather than focusing o low-level design choices (e.g. crafting features)\n",
    "* ...We focus on building architecture that can exploit general properties"
   ]
  }
 ],
 "metadata": {
  "celltoolbar": "Slideshow",
  "kernelspec": {
   "display_name": "Python 3 (ipykernel)",
   "language": "python",
   "name": "python3"
  },
  "language_info": {
   "codemirror_mode": {
    "name": "ipython",
    "version": 3
   },
   "file_extension": ".py",
   "mimetype": "text/x-python",
   "name": "python",
   "nbconvert_exporter": "python",
   "pygments_lexer": "ipython3",
   "version": "3.8.10"
  },
  "rise": {
   "center": false,
   "transition": "fade"
  }
 },
 "nbformat": 4,
 "nbformat_minor": 4
}
